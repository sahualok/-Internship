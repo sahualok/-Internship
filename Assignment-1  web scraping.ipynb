{
 "cells": [
  {
   "cell_type": "markdown",
   "metadata": {},
   "source": [
    "1.Write a python program to display all the header tags from wikipedia.org."
   ]
  },
  {
   "cell_type": "code",
   "execution_count": 1,
   "metadata": {},
   "outputs": [],
   "source": [
    "from bs4 import BeautifulSoup\n",
    "import requests"
   ]
  },
  {
   "cell_type": "code",
   "execution_count": 2,
   "metadata": {},
   "outputs": [
    {
     "data": {
      "text/plain": [
       "<Response [200]>"
      ]
     },
     "execution_count": 2,
     "metadata": {},
     "output_type": "execute_result"
    }
   ],
   "source": [
    "page = requests.get(\"https://en.wikipedia.org/wiki/Main_Page\")\n",
    "page"
   ]
  },
  {
   "cell_type": "code",
   "execution_count": 3,
   "metadata": {},
   "outputs": [],
   "source": [
    "soup = BeautifulSoup(page.content)\n",
    "res=soup.find_all(['h1','h2','h3','h4','h5','h6'])"
   ]
  },
  {
   "cell_type": "code",
   "execution_count": 4,
   "metadata": {},
   "outputs": [
    {
     "data": {
      "text/plain": [
       "['Main Page',\n",
       " 'Welcome to Wikipedia',\n",
       " \"From today's featured article\",\n",
       " 'Did you know\\xa0...',\n",
       " 'In the news',\n",
       " 'On this day',\n",
       " \"From today's featured list\",\n",
       " \"Today's featured picture\",\n",
       " 'Other areas of Wikipedia',\n",
       " \"Wikipedia's sister projects\",\n",
       " 'Wikipedia languages',\n",
       " 'Navigation menu',\n",
       " '\\nSearch\\n']"
      ]
     },
     "execution_count": 4,
     "metadata": {},
     "output_type": "execute_result"
    }
   ],
   "source": [
    "allres=[]\n",
    "for i in soup.find_all(['h1','h2','h3','h4','h5','h6']):\n",
    "    allres.append(i.text)\n",
    "    \n",
    "allres\n",
    "    \n"
   ]
  },
  {
   "cell_type": "markdown",
   "metadata": {},
   "source": [
    "2.Write a python program to display IMDB’s Top rated 100 movies’ data (i.e. name, rating, year of release)\n",
    "and make data frame.\n"
   ]
  },
  {
   "cell_type": "code",
   "execution_count": 5,
   "metadata": {},
   "outputs": [
    {
     "data": {
      "text/plain": [
       "<Response [200]>"
      ]
     },
     "execution_count": 5,
     "metadata": {},
     "output_type": "execute_result"
    }
   ],
   "source": [
    "page1 = requests.get(\"https://www.imdb.com/list/ls091520106/\")\n",
    "page1"
   ]
  },
  {
   "cell_type": "code",
   "execution_count": 6,
   "metadata": {},
   "outputs": [],
   "source": [
    "soup=BeautifulSoup(page1.content)\n"
   ]
  },
  {
   "cell_type": "code",
   "execution_count": 7,
   "metadata": {},
   "outputs": [],
   "source": [
    "monameall=[]\n",
    "for i in soup.find_all('h3',class_=\"lister-item-header\"):\n",
    "    monameall.append(i.text.replace('\\n',''))\n",
    "    \n",
    "    \n"
   ]
  },
  {
   "cell_type": "code",
   "execution_count": 8,
   "metadata": {},
   "outputs": [],
   "source": [
    "morateall=[]\n",
    "for i in soup.find_all('div',class_=\"ipl-rating-star small\"):\n",
    "    morateall.append(i.text.replace('\\n',''))\n",
    "    \n",
    "    \n",
    "\n"
   ]
  },
  {
   "cell_type": "code",
   "execution_count": 9,
   "metadata": {},
   "outputs": [],
   "source": [
    "moyearall=[]\n",
    "for i in soup.find_all('span',class_=\"lister-item-year text-muted unbold\"):\n",
    "    moyearall.append(i.text)\n",
    "    \n",
    "    "
   ]
  },
  {
   "cell_type": "code",
   "execution_count": 10,
   "metadata": {},
   "outputs": [
    {
     "name": "stdout",
     "output_type": "stream",
     "text": [
      "100 100 100\n"
     ]
    }
   ],
   "source": [
    "print(len(monameall),len(morateall),len(moyearall))"
   ]
  },
  {
   "cell_type": "code",
   "execution_count": 11,
   "metadata": {},
   "outputs": [
    {
     "data": {
      "text/html": [
       "<div>\n",
       "<style scoped>\n",
       "    .dataframe tbody tr th:only-of-type {\n",
       "        vertical-align: middle;\n",
       "    }\n",
       "\n",
       "    .dataframe tbody tr th {\n",
       "        vertical-align: top;\n",
       "    }\n",
       "\n",
       "    .dataframe thead th {\n",
       "        text-align: right;\n",
       "    }\n",
       "</style>\n",
       "<table border=\"1\" class=\"dataframe\">\n",
       "  <thead>\n",
       "    <tr style=\"text-align: right;\">\n",
       "      <th></th>\n",
       "      <th>Name</th>\n",
       "      <th>year</th>\n",
       "      <th>rating</th>\n",
       "    </tr>\n",
       "  </thead>\n",
       "  <tbody>\n",
       "    <tr>\n",
       "      <th>0</th>\n",
       "      <td>1.The Shawshank Redemption(1994)</td>\n",
       "      <td>(1994)</td>\n",
       "      <td>9.3</td>\n",
       "    </tr>\n",
       "    <tr>\n",
       "      <th>1</th>\n",
       "      <td>2.The Godfather(1972)</td>\n",
       "      <td>(1972)</td>\n",
       "      <td>9.2</td>\n",
       "    </tr>\n",
       "    <tr>\n",
       "      <th>3</th>\n",
       "      <td>4.The Dark Knight(2008)</td>\n",
       "      <td>(2008)</td>\n",
       "      <td>9.1</td>\n",
       "    </tr>\n",
       "    <tr>\n",
       "      <th>2</th>\n",
       "      <td>3.The Godfather: Part II(1974)</td>\n",
       "      <td>(1974)</td>\n",
       "      <td>9</td>\n",
       "    </tr>\n",
       "    <tr>\n",
       "      <th>4</th>\n",
       "      <td>5.12 Angry Men(1957)</td>\n",
       "      <td>(1957)</td>\n",
       "      <td>9</td>\n",
       "    </tr>\n",
       "    <tr>\n",
       "      <th>...</th>\n",
       "      <td>...</td>\n",
       "      <td>...</td>\n",
       "      <td>...</td>\n",
       "    </tr>\n",
       "    <tr>\n",
       "      <th>86</th>\n",
       "      <td>87.Inglourious Basterds(2009)</td>\n",
       "      <td>(2009)</td>\n",
       "      <td>8.3</td>\n",
       "    </tr>\n",
       "    <tr>\n",
       "      <th>82</th>\n",
       "      <td>83.Reservoir Dogs(1992)</td>\n",
       "      <td>(1992)</td>\n",
       "      <td>8.3</td>\n",
       "    </tr>\n",
       "    <tr>\n",
       "      <th>81</th>\n",
       "      <td>82.Toy Story(1995)</td>\n",
       "      <td>(1995)</td>\n",
       "      <td>8.3</td>\n",
       "    </tr>\n",
       "    <tr>\n",
       "      <th>80</th>\n",
       "      <td>81.Star Wars: Episode VI - Return of the Jedi(...</td>\n",
       "      <td>(1983)</td>\n",
       "      <td>8.3</td>\n",
       "    </tr>\n",
       "    <tr>\n",
       "      <th>99</th>\n",
       "      <td>100.The Kid(1921)</td>\n",
       "      <td>(1921)</td>\n",
       "      <td>8.3</td>\n",
       "    </tr>\n",
       "  </tbody>\n",
       "</table>\n",
       "<p>100 rows × 3 columns</p>\n",
       "</div>"
      ],
      "text/plain": [
       "                                                 Name    year rating\n",
       "0                    1.The Shawshank Redemption(1994)  (1994)    9.3\n",
       "1                               2.The Godfather(1972)  (1972)    9.2\n",
       "3                             4.The Dark Knight(2008)  (2008)    9.1\n",
       "2                      3.The Godfather: Part II(1974)  (1974)      9\n",
       "4                                5.12 Angry Men(1957)  (1957)      9\n",
       "..                                                ...     ...    ...\n",
       "86                      87.Inglourious Basterds(2009)  (2009)    8.3\n",
       "82                            83.Reservoir Dogs(1992)  (1992)    8.3\n",
       "81                                 82.Toy Story(1995)  (1995)    8.3\n",
       "80  81.Star Wars: Episode VI - Return of the Jedi(...  (1983)    8.3\n",
       "99                                  100.The Kid(1921)  (1921)    8.3\n",
       "\n",
       "[100 rows x 3 columns]"
      ]
     },
     "execution_count": 11,
     "metadata": {},
     "output_type": "execute_result"
    }
   ],
   "source": [
    "import pandas as pd\n",
    "df=pd.DataFrame({'Name':monameall,'year':moyearall,'rating':morateall})\n",
    "df.sort_values(by=['rating'],ascending=False)\n"
   ]
  },
  {
   "cell_type": "code",
   "execution_count": null,
   "metadata": {},
   "outputs": [],
   "source": []
  },
  {
   "cell_type": "code",
   "execution_count": null,
   "metadata": {},
   "outputs": [],
   "source": []
  },
  {
   "cell_type": "code",
   "execution_count": null,
   "metadata": {},
   "outputs": [],
   "source": []
  },
  {
   "cell_type": "markdown",
   "metadata": {},
   "source": [
    "3)Write a python program to display IMDB’s Top rated 100 Indian movies’ data (i.e. name, rating, year of\n",
    "release) and make data frame"
   ]
  },
  {
   "cell_type": "code",
   "execution_count": 12,
   "metadata": {},
   "outputs": [
    {
     "data": {
      "text/plain": [
       "<Response [200]>"
      ]
     },
     "execution_count": 12,
     "metadata": {},
     "output_type": "execute_result"
    }
   ],
   "source": [
    "page = requests.get(\"https://www.imdb.com/list/ls009997493/\")\n",
    "page"
   ]
  },
  {
   "cell_type": "code",
   "execution_count": 13,
   "metadata": {},
   "outputs": [],
   "source": [
    "soupi=BeautifulSoup(page.content)\n"
   ]
  },
  {
   "cell_type": "code",
   "execution_count": 14,
   "metadata": {},
   "outputs": [],
   "source": [
    "monamealli=[]\n",
    "for i in soupi.find_all('h3',class_=\"lister-item-header\"):\n",
    "    monamealli.append(i.text.replace('\\n',''))\n",
    "  "
   ]
  },
  {
   "cell_type": "code",
   "execution_count": 15,
   "metadata": {},
   "outputs": [],
   "source": [
    "moratealli=[]\n",
    "for i in soupi.find_all('div',class_=\"ipl-rating-star small\"):\n",
    "    moratealli.append(i.text.replace('\\n',''))\n",
    "    \n",
    " \n"
   ]
  },
  {
   "cell_type": "code",
   "execution_count": 16,
   "metadata": {},
   "outputs": [],
   "source": [
    "moyearalli=[]\n",
    "for i in soupi.find_all('span',class_=\"lister-item-year text-muted unbold\"):\n",
    "    moyearalli.append(i.text)\n",
    "    "
   ]
  },
  {
   "cell_type": "code",
   "execution_count": 17,
   "metadata": {},
   "outputs": [
    {
     "data": {
      "text/html": [
       "<div>\n",
       "<style scoped>\n",
       "    .dataframe tbody tr th:only-of-type {\n",
       "        vertical-align: middle;\n",
       "    }\n",
       "\n",
       "    .dataframe tbody tr th {\n",
       "        vertical-align: top;\n",
       "    }\n",
       "\n",
       "    .dataframe thead th {\n",
       "        text-align: right;\n",
       "    }\n",
       "</style>\n",
       "<table border=\"1\" class=\"dataframe\">\n",
       "  <thead>\n",
       "    <tr style=\"text-align: right;\">\n",
       "      <th></th>\n",
       "      <th>Name</th>\n",
       "      <th>year</th>\n",
       "      <th>rating</th>\n",
       "    </tr>\n",
       "  </thead>\n",
       "  <tbody>\n",
       "    <tr>\n",
       "      <th>30</th>\n",
       "      <td>31.Golmaal(1979)</td>\n",
       "      <td>(1979)</td>\n",
       "      <td>8.6</td>\n",
       "    </tr>\n",
       "    <tr>\n",
       "      <th>28</th>\n",
       "      <td>29.Black Friday(2004)</td>\n",
       "      <td>(2004)</td>\n",
       "      <td>8.5</td>\n",
       "    </tr>\n",
       "    <tr>\n",
       "      <th>1</th>\n",
       "      <td>2.3 Idiots(2009)</td>\n",
       "      <td>(2009)</td>\n",
       "      <td>8.5</td>\n",
       "    </tr>\n",
       "    <tr>\n",
       "      <th>2</th>\n",
       "      <td>3.Taare Zameen Par(2007)</td>\n",
       "      <td>(2007)</td>\n",
       "      <td>8.4</td>\n",
       "    </tr>\n",
       "    <tr>\n",
       "      <th>40</th>\n",
       "      <td>41.Masoom(1983)</td>\n",
       "      <td>(1983)</td>\n",
       "      <td>8.4</td>\n",
       "    </tr>\n",
       "    <tr>\n",
       "      <th>...</th>\n",
       "      <td>...</td>\n",
       "      <td>...</td>\n",
       "      <td>...</td>\n",
       "    </tr>\n",
       "    <tr>\n",
       "      <th>93</th>\n",
       "      <td>94.Jaane Tu... Ya Jaane Na(2008)</td>\n",
       "      <td>(2008)</td>\n",
       "      <td>7.5</td>\n",
       "    </tr>\n",
       "    <tr>\n",
       "      <th>97</th>\n",
       "      <td>98.Shatranj Ke Khilari(1977)</td>\n",
       "      <td>(1977)</td>\n",
       "      <td>7.5</td>\n",
       "    </tr>\n",
       "    <tr>\n",
       "      <th>99</th>\n",
       "      <td>100.Ek Hasina Thi(2004)</td>\n",
       "      <td>(2004)</td>\n",
       "      <td>7.5</td>\n",
       "    </tr>\n",
       "    <tr>\n",
       "      <th>76</th>\n",
       "      <td>77.Socha Na Tha(2005)</td>\n",
       "      <td>(2005)</td>\n",
       "      <td>7.4</td>\n",
       "    </tr>\n",
       "    <tr>\n",
       "      <th>96</th>\n",
       "      <td>97.Rangeela(1995)</td>\n",
       "      <td>(1995)</td>\n",
       "      <td>7.4</td>\n",
       "    </tr>\n",
       "  </tbody>\n",
       "</table>\n",
       "<p>100 rows × 3 columns</p>\n",
       "</div>"
      ],
      "text/plain": [
       "                                Name    year rating\n",
       "30                  31.Golmaal(1979)  (1979)    8.6\n",
       "28             29.Black Friday(2004)  (2004)    8.5\n",
       "1                   2.3 Idiots(2009)  (2009)    8.5\n",
       "2           3.Taare Zameen Par(2007)  (2007)    8.4\n",
       "40                   41.Masoom(1983)  (1983)    8.4\n",
       "..                               ...     ...    ...\n",
       "93  94.Jaane Tu... Ya Jaane Na(2008)  (2008)    7.5\n",
       "97      98.Shatranj Ke Khilari(1977)  (1977)    7.5\n",
       "99           100.Ek Hasina Thi(2004)  (2004)    7.5\n",
       "76             77.Socha Na Tha(2005)  (2005)    7.4\n",
       "96                 97.Rangeela(1995)  (1995)    7.4\n",
       "\n",
       "[100 rows x 3 columns]"
      ]
     },
     "execution_count": 17,
     "metadata": {},
     "output_type": "execute_result"
    }
   ],
   "source": [
    "import pandas as pd\n",
    "df=pd.DataFrame({'Name':monamealli,'year':moyearalli,'rating':moratealli})\n",
    "df.sort_values(by=['rating'],ascending=False)"
   ]
  },
  {
   "cell_type": "code",
   "execution_count": null,
   "metadata": {},
   "outputs": [],
   "source": []
  },
  {
   "cell_type": "code",
   "execution_count": null,
   "metadata": {},
   "outputs": [],
   "source": []
  },
  {
   "cell_type": "code",
   "execution_count": null,
   "metadata": {},
   "outputs": [],
   "source": []
  },
  {
   "cell_type": "markdown",
   "metadata": {},
   "source": [
    "4) Write a python program to scrape product name, price and discounts. \n"
   ]
  },
  {
   "cell_type": "code",
   "execution_count": 18,
   "metadata": {},
   "outputs": [],
   "source": [
    "getdata=requests.get('https://meesho.com/bags-ladies/pl/p7vbp')\n",
    "soup=BeautifulSoup(getdata.content)"
   ]
  },
  {
   "cell_type": "code",
   "execution_count": 19,
   "metadata": {},
   "outputs": [],
   "source": [
    "proname=soup.find_all('p',class_=\"Text__StyledText-sc-oo0kvp-0 bWSOET NewProductCard__ProductTitle_Desktop-sc-j0e7tu-4 cQhePS NewProductCard__ProductTitle_Desktop-sc-j0e7tu-4 cQhePS\")\n",
    "\n"
   ]
  },
  {
   "cell_type": "code",
   "execution_count": 20,
   "metadata": {},
   "outputs": [],
   "source": [
    "propri=soup.find_all('h5',class_='Text__StyledText-sc-oo0kvp-0 hiHdyy')\n"
   ]
  },
  {
   "cell_type": "code",
   "execution_count": 21,
   "metadata": {},
   "outputs": [],
   "source": [
    "prodis=soup.find_all('div',class_='Card__BaseCard-sc-b3n78k-0 iJCKg NewProductCard__DiscountRow-sc-j0e7tu-15 kUcVjG NewProductCard__DiscountRow-sc-j0e7tu-15 kUcVjG')\n"
   ]
  },
  {
   "cell_type": "code",
   "execution_count": 22,
   "metadata": {},
   "outputs": [],
   "source": [
    "allproname=[]\n",
    "for i in soup.find_all('p',class_='Text__StyledText-sc-oo0kvp-0 bWSOET NewProductCard__ProductTitle_Desktop-sc-j0e7tu-4 cQhePS NewProductCard__ProductTitle_Desktop-sc-j0e7tu-4 cQhePS'):\n",
    "    allproname.append(i.text)\n",
    "    \n",
    "\n",
    "    "
   ]
  },
  {
   "cell_type": "code",
   "execution_count": 23,
   "metadata": {},
   "outputs": [],
   "source": [
    "allpropri=[]\n",
    "for i in soup.find_all('h5',class_='Text__StyledText-sc-oo0kvp-0 hiHdyy'):\n",
    "\n",
    "    allpropri.append(i.text)\n",
    "    \n",
    "\n",
    "    "
   ]
  },
  {
   "cell_type": "code",
   "execution_count": 24,
   "metadata": {},
   "outputs": [],
   "source": [
    "allprodis=[]\n",
    "for i in soup.find_all('div',class_='Card__BaseCard-sc-b3n78k-0 iJCKg NewProductCard__DiscountRow-sc-j0e7tu-15 kUcVjG NewProductCard__DiscountRow-sc-j0e7tu-15 kUcVjG'):\n",
    "    allprodis.append(i.text.replace('on 1st order',''))\n",
    "    \n"
   ]
  },
  {
   "cell_type": "code",
   "execution_count": 25,
   "metadata": {},
   "outputs": [],
   "source": [
    "import pandas as pd\n",
    "df=pd.DataFrame({'Name':allproname,'Price':allpropri,'Discount':allprodis})\n"
   ]
  },
  {
   "cell_type": "code",
   "execution_count": null,
   "metadata": {},
   "outputs": [],
   "source": []
  },
  {
   "cell_type": "code",
   "execution_count": null,
   "metadata": {},
   "outputs": [],
   "source": []
  },
  {
   "cell_type": "code",
   "execution_count": null,
   "metadata": {},
   "outputs": [],
   "source": []
  },
  {
   "cell_type": "markdown",
   "metadata": {},
   "source": [
    "5.Write a python program to scrape cricket rankings from icc-cricket.com. You have to scrape:\n"
   ]
  },
  {
   "cell_type": "markdown",
   "metadata": {},
   "source": [
    "a) Top 10 ODI teams in men’s cricket along with the records for matches, points and rating."
   ]
  },
  {
   "cell_type": "code",
   "execution_count": 26,
   "metadata": {},
   "outputs": [],
   "source": [
    "getdata=requests.get('https://www.icc-cricket.com/rankings/mens/team-rankings/odi')\n",
    "soup=BeautifulSoup(getdata.content)\n"
   ]
  },
  {
   "cell_type": "code",
   "execution_count": 27,
   "metadata": {},
   "outputs": [],
   "source": [
    "team=[]\n",
    "for i in soup.find_all('span',class_=\"u-hide-phablet\")[:10]:\n",
    "    team.append(i.text)\n",
    "    \n"
   ]
  },
  {
   "cell_type": "code",
   "execution_count": 28,
   "metadata": {},
   "outputs": [],
   "source": [
    "\n",
    "\n",
    "matches = []\n",
    "\n",
    "for i in soup.find_all('td',class_=\"table-body__cell u-center-text\")[:18]:\n",
    "\n",
    "    matches.append(i.text)\n",
    "\n",
    "    \n",
    "\n"
   ]
  },
  {
   "cell_type": "code",
   "execution_count": 29,
   "metadata": {},
   "outputs": [],
   "source": [
    "matches    \n",
    "\n",
    "match1 = []\n",
    "\n",
    "for i in range(0,len(matches),2)[:18]:\n",
    "\n",
    "    match1.append(matches[i])  \n",
    "\n"
   ]
  },
  {
   "cell_type": "code",
   "execution_count": 30,
   "metadata": {},
   "outputs": [],
   "source": [
    "matches    \n",
    "\n",
    "match2 = []\n",
    "\n",
    "for i in range(1,len(matches),2)[:18]:\n",
    "\n",
    "    match2.append(matches[i])\n",
    "\n"
   ]
  },
  {
   "cell_type": "code",
   "execution_count": 31,
   "metadata": {},
   "outputs": [],
   "source": [
    "match3 = []\n",
    "\n",
    "for i in soup.find_all('td',class_=\"table-body__cell u-text-right rating\")[:9]:\n",
    "\n",
    "    match3.append(i.text)\n",
    "\n",
    "    \n",
    "\n"
   ]
  },
  {
   "cell_type": "code",
   "execution_count": 32,
   "metadata": {},
   "outputs": [],
   "source": [
    "\n",
    "matchwin = []\n",
    "\n",
    "for i in soup.find_all('td',class_=\"rankings-block__banner--matches\"):\n",
    "\n",
    "    matchwin.append(i.text)\n",
    "\n",
    "    \n"
   ]
  },
  {
   "cell_type": "code",
   "execution_count": 33,
   "metadata": {},
   "outputs": [],
   "source": [
    "matchpoint = []\n",
    "\n",
    "for i in soup.find_all('td',class_=\"rankings-block__banner--points\"):\n",
    "\n",
    "    matchpoint.append(i.text)\n",
    "\n",
    "    \n"
   ]
  },
  {
   "cell_type": "code",
   "execution_count": 34,
   "metadata": {},
   "outputs": [],
   "source": [
    "matchrate = []\n",
    "\n",
    "for i in soup.find_all('td',class_=\"rankings-block__banner--rating u-text-right\"):\n",
    "\n",
    "    matchrate.append(i.text.replace(' ','').replace('\\n',''))\n",
    "\n",
    "    \n"
   ]
  },
  {
   "cell_type": "code",
   "execution_count": 35,
   "metadata": {},
   "outputs": [],
   "source": [
    "finmatchwin=matchwin+match1\n"
   ]
  },
  {
   "cell_type": "code",
   "execution_count": 36,
   "metadata": {},
   "outputs": [],
   "source": [
    "finmatchpo=matchpoint+match2\n"
   ]
  },
  {
   "cell_type": "code",
   "execution_count": 37,
   "metadata": {},
   "outputs": [],
   "source": [
    "finmatchrate=matchrate+match3\n"
   ]
  },
  {
   "cell_type": "code",
   "execution_count": 38,
   "metadata": {},
   "outputs": [
    {
     "data": {
      "text/html": [
       "<div>\n",
       "<style scoped>\n",
       "    .dataframe tbody tr th:only-of-type {\n",
       "        vertical-align: middle;\n",
       "    }\n",
       "\n",
       "    .dataframe tbody tr th {\n",
       "        vertical-align: top;\n",
       "    }\n",
       "\n",
       "    .dataframe thead th {\n",
       "        text-align: right;\n",
       "    }\n",
       "</style>\n",
       "<table border=\"1\" class=\"dataframe\">\n",
       "  <thead>\n",
       "    <tr style=\"text-align: right;\">\n",
       "      <th></th>\n",
       "      <th>Team</th>\n",
       "      <th>Matchs</th>\n",
       "      <th>Points</th>\n",
       "      <th>Rate</th>\n",
       "    </tr>\n",
       "  </thead>\n",
       "  <tbody>\n",
       "    <tr>\n",
       "      <th>0</th>\n",
       "      <td>New Zealand</td>\n",
       "      <td>17</td>\n",
       "      <td>2,054</td>\n",
       "      <td>121</td>\n",
       "    </tr>\n",
       "    <tr>\n",
       "      <th>1</th>\n",
       "      <td>England</td>\n",
       "      <td>32</td>\n",
       "      <td>3,793</td>\n",
       "      <td>119</td>\n",
       "    </tr>\n",
       "    <tr>\n",
       "      <th>2</th>\n",
       "      <td>Australia</td>\n",
       "      <td>28</td>\n",
       "      <td>3,244</td>\n",
       "      <td>116</td>\n",
       "    </tr>\n",
       "    <tr>\n",
       "      <th>3</th>\n",
       "      <td>India</td>\n",
       "      <td>38</td>\n",
       "      <td>4,162</td>\n",
       "      <td>110</td>\n",
       "    </tr>\n",
       "    <tr>\n",
       "      <th>4</th>\n",
       "      <td>South Africa</td>\n",
       "      <td>28</td>\n",
       "      <td>2,943</td>\n",
       "      <td>105</td>\n",
       "    </tr>\n",
       "    <tr>\n",
       "      <th>5</th>\n",
       "      <td>Pakistan</td>\n",
       "      <td>27</td>\n",
       "      <td>2,524</td>\n",
       "      <td>93</td>\n",
       "    </tr>\n",
       "    <tr>\n",
       "      <th>6</th>\n",
       "      <td>Bangladesh</td>\n",
       "      <td>33</td>\n",
       "      <td>2,988</td>\n",
       "      <td>91</td>\n",
       "    </tr>\n",
       "    <tr>\n",
       "      <th>7</th>\n",
       "      <td>Sri Lanka</td>\n",
       "      <td>35</td>\n",
       "      <td>2,835</td>\n",
       "      <td>81</td>\n",
       "    </tr>\n",
       "    <tr>\n",
       "      <th>8</th>\n",
       "      <td>West Indies</td>\n",
       "      <td>36</td>\n",
       "      <td>2,788</td>\n",
       "      <td>77</td>\n",
       "    </tr>\n",
       "    <tr>\n",
       "      <th>9</th>\n",
       "      <td>Afghanistan</td>\n",
       "      <td>23</td>\n",
       "      <td>1,562</td>\n",
       "      <td>68</td>\n",
       "    </tr>\n",
       "  </tbody>\n",
       "</table>\n",
       "</div>"
      ],
      "text/plain": [
       "           Team Matchs Points Rate\n",
       "0   New Zealand     17  2,054  121\n",
       "1       England     32  3,793  119\n",
       "2     Australia     28  3,244  116\n",
       "3         India     38  4,162  110\n",
       "4  South Africa     28  2,943  105\n",
       "5      Pakistan     27  2,524   93\n",
       "6    Bangladesh     33  2,988   91\n",
       "7     Sri Lanka     35  2,835   81\n",
       "8   West Indies     36  2,788   77\n",
       "9   Afghanistan     23  1,562   68"
      ]
     },
     "execution_count": 38,
     "metadata": {},
     "output_type": "execute_result"
    }
   ],
   "source": [
    "import pandas as pd\n",
    "df=pd.DataFrame({'Team':team,'Matchs':finmatchwin,'Points':finmatchpo,'Rate':finmatchrate})\n",
    "\n",
    "df\n"
   ]
  },
  {
   "cell_type": "markdown",
   "metadata": {},
   "source": [
    "b) Top 10 ODI Batsmen along with the records of their team and rating."
   ]
  },
  {
   "cell_type": "code",
   "execution_count": 39,
   "metadata": {},
   "outputs": [
    {
     "data": {
      "text/html": [
       "<div>\n",
       "<style scoped>\n",
       "    .dataframe tbody tr th:only-of-type {\n",
       "        vertical-align: middle;\n",
       "    }\n",
       "\n",
       "    .dataframe tbody tr th {\n",
       "        vertical-align: top;\n",
       "    }\n",
       "\n",
       "    .dataframe thead th {\n",
       "        text-align: right;\n",
       "    }\n",
       "</style>\n",
       "<table border=\"1\" class=\"dataframe\">\n",
       "  <thead>\n",
       "    <tr style=\"text-align: right;\">\n",
       "      <th></th>\n",
       "      <th>player name</th>\n",
       "      <th>Team</th>\n",
       "      <th>Points</th>\n",
       "      <th>Record</th>\n",
       "    </tr>\n",
       "  </thead>\n",
       "  <tbody>\n",
       "    <tr>\n",
       "      <th>0</th>\n",
       "      <td>Babar Azam</td>\n",
       "      <td>PAK</td>\n",
       "      <td>873</td>\n",
       "      <td>873vEngland,13/07/2021</td>\n",
       "    </tr>\n",
       "    <tr>\n",
       "      <th>1</th>\n",
       "      <td>Virat Kohli</td>\n",
       "      <td>IND</td>\n",
       "      <td>811</td>\n",
       "      <td>911vEngland,12/07/2018</td>\n",
       "    </tr>\n",
       "    <tr>\n",
       "      <th>2</th>\n",
       "      <td>Quinton de Kock</td>\n",
       "      <td>SA</td>\n",
       "      <td>796</td>\n",
       "      <td>813vSriLanka,10/03/2019</td>\n",
       "    </tr>\n",
       "    <tr>\n",
       "      <th>3</th>\n",
       "      <td>Rohit Sharma</td>\n",
       "      <td>IND</td>\n",
       "      <td>791</td>\n",
       "      <td>885vSriLanka,06/07/2019</td>\n",
       "    </tr>\n",
       "    <tr>\n",
       "      <th>4</th>\n",
       "      <td>Aaron Finch</td>\n",
       "      <td>AUS</td>\n",
       "      <td>779</td>\n",
       "      <td>798vEngland,25/06/2019</td>\n",
       "    </tr>\n",
       "    <tr>\n",
       "      <th>5</th>\n",
       "      <td>Rassie van der Dussen</td>\n",
       "      <td>SA</td>\n",
       "      <td>776</td>\n",
       "      <td>776vBangladesh,20/03/2022</td>\n",
       "    </tr>\n",
       "    <tr>\n",
       "      <th>6</th>\n",
       "      <td>Jonny Bairstow</td>\n",
       "      <td>ENG</td>\n",
       "      <td>775</td>\n",
       "      <td>796vIndia,26/03/2021</td>\n",
       "    </tr>\n",
       "    <tr>\n",
       "      <th>7</th>\n",
       "      <td>David Warner</td>\n",
       "      <td>AUS</td>\n",
       "      <td>762</td>\n",
       "      <td>880vPakistan,26/01/2017</td>\n",
       "    </tr>\n",
       "    <tr>\n",
       "      <th>8</th>\n",
       "      <td>Fakhar Zaman</td>\n",
       "      <td>PAK</td>\n",
       "      <td>741</td>\n",
       "      <td>779vEngland,08/07/2021</td>\n",
       "    </tr>\n",
       "    <tr>\n",
       "      <th>9</th>\n",
       "      <td>Joe Root</td>\n",
       "      <td>ENG</td>\n",
       "      <td>740</td>\n",
       "      <td>824vSriLanka,13/10/2018</td>\n",
       "    </tr>\n",
       "  </tbody>\n",
       "</table>\n",
       "</div>"
      ],
      "text/plain": [
       "             player name Team Points                     Record\n",
       "0             Babar Azam  PAK    873     873vEngland,13/07/2021\n",
       "1            Virat Kohli  IND    811     911vEngland,12/07/2018\n",
       "2        Quinton de Kock   SA    796    813vSriLanka,10/03/2019\n",
       "3           Rohit Sharma  IND    791    885vSriLanka,06/07/2019\n",
       "4            Aaron Finch  AUS    779     798vEngland,25/06/2019\n",
       "5  Rassie van der Dussen   SA    776  776vBangladesh,20/03/2022\n",
       "6         Jonny Bairstow  ENG    775       796vIndia,26/03/2021\n",
       "7           David Warner  AUS    762    880vPakistan,26/01/2017\n",
       "8           Fakhar Zaman  PAK    741     779vEngland,08/07/2021\n",
       "9               Joe Root  ENG    740    824vSriLanka,13/10/2018"
      ]
     },
     "execution_count": 39,
     "metadata": {},
     "output_type": "execute_result"
    }
   ],
   "source": [
    "getdata2=requests.get('https://www.icc-cricket.com/rankings/mens/player-rankings/odi/batting')\n",
    "soup=BeautifulSoup(getdata2.content)\n",
    "\n",
    "teamb=[]\n",
    "for i in soup.find_all('span',class_=\"table-body__logo-text\")[:9]:\n",
    "    teamb.append(i.text)\n",
    "\n",
    "matchb = []\n",
    "for i in soup.find_all('td',class_=\"table-body__cell rating\")[:9]:\n",
    "    matchb.append(i.text)\n",
    "\n",
    "    \n",
    "recb = []\n",
    "for i in soup.find_all('td',class_=\"table-body__cell u-text-right u-hide-phablet\")[:9]:\n",
    "    recb.append(i.text.replace('\\n','').replace(' ',''))\n",
    "    \n",
    "nameb = []\n",
    "for i in soup.find_all('td',class_=\"table-body__cell rankings-table__name name\")[:9]:\n",
    "    nameb.append(i.text.replace('\\n',''))\n",
    "\n",
    "    \n",
    "winb = []\n",
    "for i in soup.find_all('div',class_=\"rankings-block__banner--name-large\"):\n",
    "    winb.append(i.text)\n",
    "    \n",
    "    \n",
    "wintb = []\n",
    "for i in soup.find_all('div',class_=\"rankings-block__banner--nationality\"):\n",
    "    wintb.append(i.text.replace('\\n','').replace(' ',''))\n",
    "\n",
    "    \n",
    "winpb = []\n",
    "for i in soup.find_all('div',class_=\"rankings-block__banner--rating\"):\n",
    "    winpb.append(i.text.replace('\\n','').replace(' ',''))\n",
    "\n",
    "    \n",
    "winrb = []\n",
    "for i in soup.find_all('span',class_=\"rankings-block__career-best-text\"):\n",
    "    winrb.append(i.text.replace(' ','').replace('\\n',''))\n",
    "\n",
    "finname=winb+nameb\n",
    "finteam=wintb+teamb\n",
    "finpo=winpb+matchb\n",
    "finrec=winrb+recb\n",
    "\n",
    "\n",
    "import pandas as pd\n",
    "df=pd.DataFrame({'player name':finname,'Team':finteam,'Points':finpo,'Record':finrec})\n",
    "df"
   ]
  },
  {
   "cell_type": "markdown",
   "metadata": {},
   "source": [
    "\n",
    "c) Top 10 ODI bowlers along with the records of their team and rating."
   ]
  },
  {
   "cell_type": "code",
   "execution_count": 40,
   "metadata": {},
   "outputs": [
    {
     "data": {
      "text/html": [
       "<div>\n",
       "<style scoped>\n",
       "    .dataframe tbody tr th:only-of-type {\n",
       "        vertical-align: middle;\n",
       "    }\n",
       "\n",
       "    .dataframe tbody tr th {\n",
       "        vertical-align: top;\n",
       "    }\n",
       "\n",
       "    .dataframe thead th {\n",
       "        text-align: right;\n",
       "    }\n",
       "</style>\n",
       "<table border=\"1\" class=\"dataframe\">\n",
       "  <thead>\n",
       "    <tr style=\"text-align: right;\">\n",
       "      <th></th>\n",
       "      <th>player name</th>\n",
       "      <th>Team</th>\n",
       "      <th>Points</th>\n",
       "      <th>Record</th>\n",
       "    </tr>\n",
       "  </thead>\n",
       "  <tbody>\n",
       "    <tr>\n",
       "      <th>0</th>\n",
       "      <td>Trent Boult</td>\n",
       "      <td>NZ</td>\n",
       "      <td>737</td>\n",
       "      <td>770vWestIndies,22/06/2019</td>\n",
       "    </tr>\n",
       "    <tr>\n",
       "      <th>1</th>\n",
       "      <td>\\nJosh Hazlewood\\n</td>\n",
       "      <td>AUS</td>\n",
       "      <td>709</td>\n",
       "      <td>733vEngland,26/01/2018</td>\n",
       "    </tr>\n",
       "    <tr>\n",
       "      <th>2</th>\n",
       "      <td>\\nChris Woakes\\n</td>\n",
       "      <td>ENG</td>\n",
       "      <td>700</td>\n",
       "      <td>711vSriLanka,04/07/2021</td>\n",
       "    </tr>\n",
       "    <tr>\n",
       "      <th>3</th>\n",
       "      <td>\\nMatt Henry\\n</td>\n",
       "      <td>NZ</td>\n",
       "      <td>691</td>\n",
       "      <td>691vBangladesh,26/03/2021</td>\n",
       "    </tr>\n",
       "    <tr>\n",
       "      <th>4</th>\n",
       "      <td>\\nMujeeb Ur Rahman\\n</td>\n",
       "      <td>AFG</td>\n",
       "      <td>681</td>\n",
       "      <td>712vIreland,24/01/2021</td>\n",
       "    </tr>\n",
       "    <tr>\n",
       "      <th>5</th>\n",
       "      <td>\\nJasprit Bumrah\\n</td>\n",
       "      <td>IND</td>\n",
       "      <td>679</td>\n",
       "      <td>841vWestIndies,01/11/2018</td>\n",
       "    </tr>\n",
       "    <tr>\n",
       "      <th>6</th>\n",
       "      <td>\\nMehedi Hasan\\n</td>\n",
       "      <td>BAN</td>\n",
       "      <td>664</td>\n",
       "      <td>725vSriLanka,25/05/2021</td>\n",
       "    </tr>\n",
       "    <tr>\n",
       "      <th>7</th>\n",
       "      <td>\\nKagiso Rabada\\n</td>\n",
       "      <td>SA</td>\n",
       "      <td>658</td>\n",
       "      <td>724vEngland,29/05/2017</td>\n",
       "    </tr>\n",
       "    <tr>\n",
       "      <th>8</th>\n",
       "      <td>\\nMitchell Starc\\n</td>\n",
       "      <td>AUS</td>\n",
       "      <td>652</td>\n",
       "      <td>783vNewZealand,29/03/2015</td>\n",
       "    </tr>\n",
       "    <tr>\n",
       "      <th>9</th>\n",
       "      <td>\\nRashid Khan\\n</td>\n",
       "      <td>AFG</td>\n",
       "      <td>650</td>\n",
       "      <td>806vPakistan,21/09/2018</td>\n",
       "    </tr>\n",
       "  </tbody>\n",
       "</table>\n",
       "</div>"
      ],
      "text/plain": [
       "            player name Team Points                     Record\n",
       "0           Trent Boult   NZ    737  770vWestIndies,22/06/2019\n",
       "1    \\nJosh Hazlewood\\n  AUS    709     733vEngland,26/01/2018\n",
       "2      \\nChris Woakes\\n  ENG    700    711vSriLanka,04/07/2021\n",
       "3        \\nMatt Henry\\n   NZ    691  691vBangladesh,26/03/2021\n",
       "4  \\nMujeeb Ur Rahman\\n  AFG    681     712vIreland,24/01/2021\n",
       "5    \\nJasprit Bumrah\\n  IND    679  841vWestIndies,01/11/2018\n",
       "6      \\nMehedi Hasan\\n  BAN    664    725vSriLanka,25/05/2021\n",
       "7     \\nKagiso Rabada\\n   SA    658     724vEngland,29/05/2017\n",
       "8    \\nMitchell Starc\\n  AUS    652  783vNewZealand,29/03/2015\n",
       "9       \\nRashid Khan\\n  AFG    650    806vPakistan,21/09/2018"
      ]
     },
     "execution_count": 40,
     "metadata": {},
     "output_type": "execute_result"
    }
   ],
   "source": [
    "getdata3=requests.get('https://www.icc-cricket.com/rankings/mens/player-rankings/odi/bowling')\n",
    "soup1=BeautifulSoup(getdata3.content)\n",
    "\n",
    "namew=[]\n",
    "for i in soup1.find_all('td',class_=\"table-body__cell rankings-table__name name\")[:9]:\n",
    "    namew.append(i.text)\n",
    "\n",
    "matchw = []\n",
    "for i in soup1.find_all('td',class_=\"table-body__cell rating\")[:9]:\n",
    "    matchw.append(i.text)\n",
    "\n",
    "    \n",
    "recw = []\n",
    "for i in soup1.find_all('td',class_=\"table-body__cell u-text-right u-hide-phablet\")[:9]:\n",
    "    recw.append(i.text.replace('\\n','').replace(' ',''))\n",
    "    \n",
    "teamw = []\n",
    "for i in soup1.find_all('span',class_=\"table-body__logo-text\")[:9]:\n",
    "    teamw.append(i.text.replace('\\n',''))\n",
    "\n",
    "    \n",
    "winw = []\n",
    "for i in soup1.find_all('div',class_=\"rankings-block__banner--name-large\"):\n",
    "    winw.append(i.text)\n",
    "    \n",
    "    \n",
    "wintw = []\n",
    "for i in soup1.find_all('div',class_=\"rankings-block__banner--nationality\"):\n",
    "    wintw.append(i.text.replace('\\n','').replace(' ',''))\n",
    "\n",
    "    \n",
    "winpw = []\n",
    "for i in soup1.find_all('div',class_=\"rankings-block__banner--rating\"):\n",
    "    winpw.append(i.text.replace('\\n','').replace(' ',''))\n",
    "\n",
    "    \n",
    "winrw = []\n",
    "for i in soup1.find_all('span',class_=\"rankings-block__career-best-text\"):\n",
    "    winrw.append(i.text.replace(' ','').replace('\\n',''))\n",
    "\n",
    "finnamew=winw+namew\n",
    "finteamw=wintw+teamw\n",
    "finpow=winpw+matchw\n",
    "finrecw=winrw+recw\n",
    "\n",
    "\n",
    "import pandas as pd\n",
    "df=pd.DataFrame({'player name':finnamew,'Team':finteamw,'Points':finpow,'Record':finrecw})\n",
    "df"
   ]
  },
  {
   "cell_type": "code",
   "execution_count": null,
   "metadata": {},
   "outputs": [],
   "source": []
  },
  {
   "cell_type": "code",
   "execution_count": null,
   "metadata": {},
   "outputs": [],
   "source": []
  },
  {
   "cell_type": "code",
   "execution_count": null,
   "metadata": {},
   "outputs": [],
   "source": []
  },
  {
   "cell_type": "markdown",
   "metadata": {},
   "source": [
    "6)write a python program to scrape cricket rankings from icc-cricket.com. You have to scrape:\n",
    "\n",
    "\n"
   ]
  },
  {
   "cell_type": "markdown",
   "metadata": {},
   "source": [
    "a) Top 10 ODI teams in women’s cricket along with the records for matches, points and rating."
   ]
  },
  {
   "cell_type": "code",
   "execution_count": 41,
   "metadata": {},
   "outputs": [],
   "source": [
    "getdata3=requests.get('https://www.icc-cricket.com/rankings/womens/team-rankings/odi')\n",
    "soup=BeautifulSoup(getdata3.content)\n",
    "\n"
   ]
  },
  {
   "cell_type": "code",
   "execution_count": 42,
   "metadata": {},
   "outputs": [],
   "source": [
    "teamwo=[]\n",
    "for i in soup.find_all('span',class_=\"u-hide-phablet\")[:10]:\n",
    "    teamwo.append(i.text)\n"
   ]
  },
  {
   "cell_type": "code",
   "execution_count": 43,
   "metadata": {},
   "outputs": [],
   "source": [
    "matchwo=[]\n",
    "for i in soup.find_all('td',class_=\"table-body__cell u-center-text\")[:18]:\n",
    "    matchwo.append(i.text)\n"
   ]
  },
  {
   "cell_type": "code",
   "execution_count": 44,
   "metadata": {},
   "outputs": [],
   "source": [
    "matchwo   \n",
    "\n",
    "match1wo = []\n",
    "\n",
    "for i in range(0,len(matchwo),2)[:18]:\n",
    "\n",
    "    match1wo.append(matchwo[i])\n"
   ]
  },
  {
   "cell_type": "code",
   "execution_count": 45,
   "metadata": {},
   "outputs": [],
   "source": [
    "matchwo   \n",
    "\n",
    "match2wo = []\n",
    "\n",
    "for i in range(1,len(matchwo),2)[:18]:\n",
    "\n",
    "    match2wo.append(matchwo[i])\n"
   ]
  },
  {
   "cell_type": "code",
   "execution_count": 46,
   "metadata": {},
   "outputs": [],
   "source": [
    "ratewo=[]\n",
    "for i in soup.find_all('td',class_=\"table-body__cell u-text-right rating\")[:9]:\n",
    "    ratewo.append(i.text)\n"
   ]
  },
  {
   "cell_type": "code",
   "execution_count": 47,
   "metadata": {},
   "outputs": [],
   "source": [
    "wowinra=[]\n",
    "for i in soup.find_all('td',class_=\"rankings-block__banner--rating u-text-right\")[:9]:\n",
    "    wowinra.append(i.text.replace('\\n','').replace(' ',''))\n"
   ]
  },
  {
   "cell_type": "code",
   "execution_count": 48,
   "metadata": {},
   "outputs": [],
   "source": [
    "wowinma=[]\n",
    "for i in soup.find_all('td',class_=\"rankings-block__banner--matches\")[:9]:\n",
    "    wowinma.append(i.text)\n"
   ]
  },
  {
   "cell_type": "code",
   "execution_count": 49,
   "metadata": {},
   "outputs": [],
   "source": [
    "wowinpo=[]\n",
    "for i in soup.find_all('td',class_=\"rankings-block__banner--points\")[:9]:\n",
    "    wowinpo.append(i.text)\n"
   ]
  },
  {
   "cell_type": "code",
   "execution_count": 50,
   "metadata": {},
   "outputs": [],
   "source": [
    "finwoma=wowinma+match1wo\n"
   ]
  },
  {
   "cell_type": "code",
   "execution_count": 51,
   "metadata": {},
   "outputs": [],
   "source": [
    "finwopo=wowinpo+match2wo"
   ]
  },
  {
   "cell_type": "code",
   "execution_count": 52,
   "metadata": {},
   "outputs": [],
   "source": [
    "finwora=wowinra+ratewo"
   ]
  },
  {
   "cell_type": "code",
   "execution_count": 53,
   "metadata": {},
   "outputs": [
    {
     "data": {
      "text/html": [
       "<div>\n",
       "<style scoped>\n",
       "    .dataframe tbody tr th:only-of-type {\n",
       "        vertical-align: middle;\n",
       "    }\n",
       "\n",
       "    .dataframe tbody tr th {\n",
       "        vertical-align: top;\n",
       "    }\n",
       "\n",
       "    .dataframe thead th {\n",
       "        text-align: right;\n",
       "    }\n",
       "</style>\n",
       "<table border=\"1\" class=\"dataframe\">\n",
       "  <thead>\n",
       "    <tr style=\"text-align: right;\">\n",
       "      <th></th>\n",
       "      <th>Team name</th>\n",
       "      <th>Match</th>\n",
       "      <th>Point</th>\n",
       "      <th>Rate</th>\n",
       "    </tr>\n",
       "  </thead>\n",
       "  <tbody>\n",
       "    <tr>\n",
       "      <th>0</th>\n",
       "      <td>Australia</td>\n",
       "      <td>20</td>\n",
       "      <td>3,263</td>\n",
       "      <td>163</td>\n",
       "    </tr>\n",
       "    <tr>\n",
       "      <th>1</th>\n",
       "      <td>South Africa</td>\n",
       "      <td>21</td>\n",
       "      <td>2,580</td>\n",
       "      <td>123</td>\n",
       "    </tr>\n",
       "    <tr>\n",
       "      <th>2</th>\n",
       "      <td>England</td>\n",
       "      <td>21</td>\n",
       "      <td>2,474</td>\n",
       "      <td>118</td>\n",
       "    </tr>\n",
       "    <tr>\n",
       "      <th>3</th>\n",
       "      <td>India</td>\n",
       "      <td>22</td>\n",
       "      <td>2,221</td>\n",
       "      <td>101</td>\n",
       "    </tr>\n",
       "    <tr>\n",
       "      <th>4</th>\n",
       "      <td>New Zealand</td>\n",
       "      <td>24</td>\n",
       "      <td>2,342</td>\n",
       "      <td>98</td>\n",
       "    </tr>\n",
       "    <tr>\n",
       "      <th>5</th>\n",
       "      <td>Bangladesh</td>\n",
       "      <td>5</td>\n",
       "      <td>475</td>\n",
       "      <td>95</td>\n",
       "    </tr>\n",
       "    <tr>\n",
       "      <th>6</th>\n",
       "      <td>West Indies</td>\n",
       "      <td>21</td>\n",
       "      <td>1,801</td>\n",
       "      <td>86</td>\n",
       "    </tr>\n",
       "    <tr>\n",
       "      <th>7</th>\n",
       "      <td>Pakistan</td>\n",
       "      <td>19</td>\n",
       "      <td>1,304</td>\n",
       "      <td>69</td>\n",
       "    </tr>\n",
       "    <tr>\n",
       "      <th>8</th>\n",
       "      <td>Ireland</td>\n",
       "      <td>5</td>\n",
       "      <td>240</td>\n",
       "      <td>48</td>\n",
       "    </tr>\n",
       "    <tr>\n",
       "      <th>9</th>\n",
       "      <td>Sri Lanka</td>\n",
       "      <td>5</td>\n",
       "      <td>233</td>\n",
       "      <td>47</td>\n",
       "    </tr>\n",
       "  </tbody>\n",
       "</table>\n",
       "</div>"
      ],
      "text/plain": [
       "      Team name Match  Point Rate\n",
       "0     Australia    20  3,263  163\n",
       "1  South Africa    21  2,580  123\n",
       "2       England    21  2,474  118\n",
       "3         India    22  2,221  101\n",
       "4   New Zealand    24  2,342   98\n",
       "5    Bangladesh     5    475   95\n",
       "6   West Indies    21  1,801   86\n",
       "7      Pakistan    19  1,304   69\n",
       "8       Ireland     5    240   48\n",
       "9     Sri Lanka     5    233   47"
      ]
     },
     "execution_count": 53,
     "metadata": {},
     "output_type": "execute_result"
    }
   ],
   "source": [
    "import pandas as pd\n",
    "df=pd.DataFrame({'Team name':teamwo,'Match':finwoma,'Point':finwopo,'Rate':finwora})\n",
    "df"
   ]
  },
  {
   "cell_type": "markdown",
   "metadata": {},
   "source": [
    "b) Top 10 women’s ODI Batting players along with the records of their team and rating."
   ]
  },
  {
   "cell_type": "code",
   "execution_count": 54,
   "metadata": {},
   "outputs": [
    {
     "data": {
      "text/html": [
       "<div>\n",
       "<style scoped>\n",
       "    .dataframe tbody tr th:only-of-type {\n",
       "        vertical-align: middle;\n",
       "    }\n",
       "\n",
       "    .dataframe tbody tr th {\n",
       "        vertical-align: top;\n",
       "    }\n",
       "\n",
       "    .dataframe thead th {\n",
       "        text-align: right;\n",
       "    }\n",
       "</style>\n",
       "<table border=\"1\" class=\"dataframe\">\n",
       "  <thead>\n",
       "    <tr style=\"text-align: right;\">\n",
       "      <th></th>\n",
       "      <th>player name</th>\n",
       "      <th>Team</th>\n",
       "      <th>Points</th>\n",
       "      <th>Record</th>\n",
       "    </tr>\n",
       "  </thead>\n",
       "  <tbody>\n",
       "    <tr>\n",
       "      <th>0</th>\n",
       "      <td>Alyssa Healy</td>\n",
       "      <td>AUS</td>\n",
       "      <td>730</td>\n",
       "      <td>776vIndia,21/09/2021</td>\n",
       "    </tr>\n",
       "    <tr>\n",
       "      <th>1</th>\n",
       "      <td>Beth Mooney</td>\n",
       "      <td>AUS</td>\n",
       "      <td>725</td>\n",
       "      <td>734vEngland,03/02/2022</td>\n",
       "    </tr>\n",
       "    <tr>\n",
       "      <th>2</th>\n",
       "      <td>Laura Wolvaardt</td>\n",
       "      <td>SA</td>\n",
       "      <td>720</td>\n",
       "      <td>725vIndia,07/03/2021</td>\n",
       "    </tr>\n",
       "    <tr>\n",
       "      <th>3</th>\n",
       "      <td>Meg Lanning</td>\n",
       "      <td>AUS</td>\n",
       "      <td>715</td>\n",
       "      <td>834vNewZealand,24/02/2016</td>\n",
       "    </tr>\n",
       "    <tr>\n",
       "      <th>4</th>\n",
       "      <td>Rachael Haynes</td>\n",
       "      <td>AUS</td>\n",
       "      <td>712</td>\n",
       "      <td>713vWestIndies,15/03/2022</td>\n",
       "    </tr>\n",
       "    <tr>\n",
       "      <th>5</th>\n",
       "      <td>Natalie Sciver</td>\n",
       "      <td>ENG</td>\n",
       "      <td>705</td>\n",
       "      <td>712vIndia,25/02/2019</td>\n",
       "    </tr>\n",
       "    <tr>\n",
       "      <th>6</th>\n",
       "      <td>Tammy Beaumont</td>\n",
       "      <td>ENG</td>\n",
       "      <td>701</td>\n",
       "      <td>791vIndia,27/06/2021</td>\n",
       "    </tr>\n",
       "    <tr>\n",
       "      <th>7</th>\n",
       "      <td>Amy Satterthwaite</td>\n",
       "      <td>NZ</td>\n",
       "      <td>696</td>\n",
       "      <td>756vAustralia,02/03/2017</td>\n",
       "    </tr>\n",
       "    <tr>\n",
       "      <th>8</th>\n",
       "      <td>Mithali Raj</td>\n",
       "      <td>IND</td>\n",
       "      <td>696</td>\n",
       "      <td>839vAustralia,24/12/2004</td>\n",
       "    </tr>\n",
       "    <tr>\n",
       "      <th>9</th>\n",
       "      <td>Smriti Mandhana</td>\n",
       "      <td>IND</td>\n",
       "      <td>663</td>\n",
       "      <td>797vEngland,28/02/2019</td>\n",
       "    </tr>\n",
       "  </tbody>\n",
       "</table>\n",
       "</div>"
      ],
      "text/plain": [
       "         player name Team Points                     Record\n",
       "0       Alyssa Healy  AUS    730       776vIndia,21/09/2021\n",
       "1        Beth Mooney  AUS    725     734vEngland,03/02/2022\n",
       "2    Laura Wolvaardt   SA    720       725vIndia,07/03/2021\n",
       "3        Meg Lanning  AUS    715  834vNewZealand,24/02/2016\n",
       "4     Rachael Haynes  AUS    712  713vWestIndies,15/03/2022\n",
       "5     Natalie Sciver  ENG    705       712vIndia,25/02/2019\n",
       "6     Tammy Beaumont  ENG    701       791vIndia,27/06/2021\n",
       "7  Amy Satterthwaite   NZ    696   756vAustralia,02/03/2017\n",
       "8        Mithali Raj  IND    696   839vAustralia,24/12/2004\n",
       "9    Smriti Mandhana  IND    663     797vEngland,28/02/2019"
      ]
     },
     "execution_count": 54,
     "metadata": {},
     "output_type": "execute_result"
    }
   ],
   "source": [
    "getdatawo=requests.get('https://www.icc-cricket.com/rankings/womens/player-rankings/odi/batting')\n",
    "soup=BeautifulSoup(getdatawo.content)\n",
    "\n",
    "teambw=[]\n",
    "for i in soup.find_all('span',class_=\"table-body__logo-text\")[:9]:\n",
    "    teambw.append(i.text)\n",
    "\n",
    "matchbw = []\n",
    "for i in soup.find_all('td',class_=\"table-body__cell rating\")[:9]:\n",
    "    matchbw.append(i.text)\n",
    "\n",
    "    \n",
    "recbw = []\n",
    "for i in soup.find_all('td',class_=\"table-body__cell u-text-right u-hide-phablet\")[:9]:\n",
    "    recbw.append(i.text.replace('\\n','').replace(' ',''))\n",
    "    \n",
    "namebw = []\n",
    "for i in soup.find_all('td',class_=\"table-body__cell rankings-table__name name\")[:9]:\n",
    "    namebw.append(i.text.replace('\\n',''))\n",
    "\n",
    "    \n",
    "winbw = []\n",
    "for i in soup.find_all('div',class_=\"rankings-block__banner--name-large\"):\n",
    "    winbw.append(i.text)\n",
    "    \n",
    "    \n",
    "wintbw = []\n",
    "for i in soup.find_all('div',class_=\"rankings-block__banner--nationality\"):\n",
    "    wintbw.append(i.text.replace('\\n','').replace(' ',''))\n",
    "\n",
    "    \n",
    "winpbw = []\n",
    "for i in soup.find_all('div',class_=\"rankings-block__banner--rating\"):\n",
    "    winpbw.append(i.text.replace('\\n','').replace(' ',''))\n",
    "\n",
    "    \n",
    "winrbw = []\n",
    "for i in soup.find_all('span',class_=\"rankings-block__career-best-text\"):\n",
    "    winrbw.append(i.text.replace(' ','').replace('\\n',''))\n",
    "\n",
    "finnamew=winbw+namebw\n",
    "finteamw=wintbw+teambw\n",
    "finpow=winpbw+matchbw\n",
    "finrecw=winrbw+recbw\n",
    "\n",
    "\n",
    "import pandas as pd\n",
    "df=pd.DataFrame({'player name':finnamew,'Team':finteamw,'Points':finpow,'Record':finrecw})\n",
    "df"
   ]
  },
  {
   "cell_type": "markdown",
   "metadata": {},
   "source": [
    "c) Top 10 women’s ODI all-rounder along with the records of their team and rating"
   ]
  },
  {
   "cell_type": "code",
   "execution_count": 55,
   "metadata": {},
   "outputs": [
    {
     "data": {
      "text/html": [
       "<div>\n",
       "<style scoped>\n",
       "    .dataframe tbody tr th:only-of-type {\n",
       "        vertical-align: middle;\n",
       "    }\n",
       "\n",
       "    .dataframe tbody tr th {\n",
       "        vertical-align: top;\n",
       "    }\n",
       "\n",
       "    .dataframe thead th {\n",
       "        text-align: right;\n",
       "    }\n",
       "</style>\n",
       "<table border=\"1\" class=\"dataframe\">\n",
       "  <thead>\n",
       "    <tr style=\"text-align: right;\">\n",
       "      <th></th>\n",
       "      <th>player name</th>\n",
       "      <th>Team</th>\n",
       "      <th>Points</th>\n",
       "      <th>Record</th>\n",
       "    </tr>\n",
       "  </thead>\n",
       "  <tbody>\n",
       "    <tr>\n",
       "      <th>0</th>\n",
       "      <td>Sophie Ecclestone</td>\n",
       "      <td>ENG</td>\n",
       "      <td>773</td>\n",
       "      <td>773vNewZealand,20/03/2022</td>\n",
       "    </tr>\n",
       "    <tr>\n",
       "      <th>1</th>\n",
       "      <td>Jess Jonassen</td>\n",
       "      <td>AUS</td>\n",
       "      <td>726</td>\n",
       "      <td>808vNewZealand,10/04/2021</td>\n",
       "    </tr>\n",
       "    <tr>\n",
       "      <th>2</th>\n",
       "      <td>Megan Schutt</td>\n",
       "      <td>AUS</td>\n",
       "      <td>716</td>\n",
       "      <td>766vWestIndies,11/09/2019</td>\n",
       "    </tr>\n",
       "    <tr>\n",
       "      <th>3</th>\n",
       "      <td>Shabnim Ismail</td>\n",
       "      <td>SA</td>\n",
       "      <td>713</td>\n",
       "      <td>743vIndia,07/03/2021</td>\n",
       "    </tr>\n",
       "    <tr>\n",
       "      <th>4</th>\n",
       "      <td>Marizanne Kapp</td>\n",
       "      <td>SA</td>\n",
       "      <td>688</td>\n",
       "      <td>749vWestIndies,10/09/2021</td>\n",
       "    </tr>\n",
       "    <tr>\n",
       "      <th>5</th>\n",
       "      <td>Ayabonga Khaka</td>\n",
       "      <td>SA</td>\n",
       "      <td>680</td>\n",
       "      <td>680vNewZealand,17/03/2022</td>\n",
       "    </tr>\n",
       "    <tr>\n",
       "      <th>6</th>\n",
       "      <td>Jhulan Goswami</td>\n",
       "      <td>IND</td>\n",
       "      <td>674</td>\n",
       "      <td>796vEngland,28/02/2007</td>\n",
       "    </tr>\n",
       "    <tr>\n",
       "      <th>7</th>\n",
       "      <td>Ellyse Perry</td>\n",
       "      <td>AUS</td>\n",
       "      <td>648</td>\n",
       "      <td>719vWestIndies,05/09/2019</td>\n",
       "    </tr>\n",
       "    <tr>\n",
       "      <th>8</th>\n",
       "      <td>Hayley Matthews</td>\n",
       "      <td>WI</td>\n",
       "      <td>643</td>\n",
       "      <td>644vBangladesh,18/03/2022</td>\n",
       "    </tr>\n",
       "    <tr>\n",
       "      <th>9</th>\n",
       "      <td>Kate Cross</td>\n",
       "      <td>ENG</td>\n",
       "      <td>623</td>\n",
       "      <td>623vNewZealand,20/03/2022</td>\n",
       "    </tr>\n",
       "  </tbody>\n",
       "</table>\n",
       "</div>"
      ],
      "text/plain": [
       "         player name Team Points                     Record\n",
       "0  Sophie Ecclestone  ENG    773  773vNewZealand,20/03/2022\n",
       "1      Jess Jonassen  AUS    726  808vNewZealand,10/04/2021\n",
       "2       Megan Schutt  AUS    716  766vWestIndies,11/09/2019\n",
       "3     Shabnim Ismail   SA    713       743vIndia,07/03/2021\n",
       "4     Marizanne Kapp   SA    688  749vWestIndies,10/09/2021\n",
       "5     Ayabonga Khaka   SA    680  680vNewZealand,17/03/2022\n",
       "6     Jhulan Goswami  IND    674     796vEngland,28/02/2007\n",
       "7       Ellyse Perry  AUS    648  719vWestIndies,05/09/2019\n",
       "8    Hayley Matthews   WI    643  644vBangladesh,18/03/2022\n",
       "9         Kate Cross  ENG    623  623vNewZealand,20/03/2022"
      ]
     },
     "execution_count": 55,
     "metadata": {},
     "output_type": "execute_result"
    }
   ],
   "source": [
    "getdatawb=requests.get('https://www.icc-cricket.com/rankings/womens/player-rankings/odi/bowling')\n",
    "soup1=BeautifulSoup(getdatawb.content)\n",
    "\n",
    "namewb=[]\n",
    "for i in soup1.find_all('td',class_=\"table-body__cell rankings-table__name name\")[:9]:\n",
    "    namewb.append(i.text.replace('\\n',''))\n",
    "\n",
    "matchwb = []\n",
    "for i in soup1.find_all('td',class_=\"table-body__cell rating\")[:9]:\n",
    "    matchwb.append(i.text)\n",
    "\n",
    "    \n",
    "recwb = []\n",
    "for i in soup1.find_all('td',class_=\"table-body__cell u-text-right u-hide-phablet\")[:9]:\n",
    "    recwb.append(i.text.replace('\\n','').replace(' ',''))\n",
    "    \n",
    "teamwb = []\n",
    "for i in soup1.find_all('span',class_=\"table-body__logo-text\")[:9]:\n",
    "    teamwb.append(i.text.replace('\\n',''))\n",
    "\n",
    "    \n",
    "winwb = []\n",
    "for i in soup1.find_all('div',class_=\"rankings-block__banner--name-large\"):\n",
    "    winwb.append(i.text)\n",
    "    \n",
    "    \n",
    "wintwb = []\n",
    "for i in soup1.find_all('div',class_=\"rankings-block__banner--nationality\"):\n",
    "    wintwb.append(i.text.replace('\\n','').replace(' ',''))\n",
    "\n",
    "    \n",
    "winpwb= []\n",
    "for i in soup1.find_all('div',class_=\"rankings-block__banner--rating\"):\n",
    "    winpwb.append(i.text.replace('\\n','').replace(' ',''))\n",
    "\n",
    "    \n",
    "winrwb = []\n",
    "for i in soup1.find_all('span',class_=\"rankings-block__career-best-text\"):\n",
    "    winrwb.append(i.text.replace(' ','').replace('\\n',''))\n",
    "\n",
    "finnamewb=winwb+namewb\n",
    "finteamwb=wintwb+teamwb\n",
    "finpowb=winpwb+matchwb\n",
    "finrecwb=winrwb+recwb\n",
    "\n",
    "\n",
    "import pandas as pd\n",
    "df=pd.DataFrame({'player name':finnamewb,'Team':finteamwb,'Points':finpowb,'Record':finrecwb})\n",
    "df"
   ]
  },
  {
   "cell_type": "code",
   "execution_count": null,
   "metadata": {},
   "outputs": [],
   "source": []
  },
  {
   "cell_type": "code",
   "execution_count": null,
   "metadata": {},
   "outputs": [],
   "source": []
  },
  {
   "cell_type": "markdown",
   "metadata": {},
   "source": [
    "7) Write a python program to scrape details of all the posts from coreyms.com. Scrape the heading, date, content\n",
    "and the code for the video from the link for the youtube video from the post."
   ]
  },
  {
   "cell_type": "code",
   "execution_count": 56,
   "metadata": {},
   "outputs": [
    {
     "data": {
      "text/plain": [
       "<Response [200]>"
      ]
     },
     "execution_count": 56,
     "metadata": {},
     "output_type": "execute_result"
    }
   ],
   "source": [
    "pagew = requests.get(\"https://coreyms.com\")\n",
    "pagew"
   ]
  },
  {
   "cell_type": "code",
   "execution_count": 99,
   "metadata": {},
   "outputs": [],
   "source": [
    "soup=BeautifulSoup(pagew.content)\n"
   ]
  },
  {
   "cell_type": "code",
   "execution_count": 100,
   "metadata": {},
   "outputs": [],
   "source": [
    "articlesw=[]\n",
    "for i in soup.find_all('h2','entry-title'):\n",
    "    articlesw.append(i.text)\n",
    "    \n",
    "\n",
    "\n"
   ]
  },
  {
   "cell_type": "code",
   "execution_count": 101,
   "metadata": {},
   "outputs": [],
   "source": [
    "datew=[]\n",
    "for i in soup.find_all('time',class_=\"entry-time\"):\n",
    "    datew.append(i.text)\n"
   ]
  },
  {
   "cell_type": "code",
   "execution_count": 102,
   "metadata": {},
   "outputs": [],
   "source": [
    "articles = soup.find_all('article')\n",
    "\n",
    "for article in articles:\n",
    "\n",
    "    try:\n",
    "\n",
    "        youtube_link = div_block.find(\"iframe\", class_=\"youtube-player\")['src']\n",
    "\n",
    "        video_code = youtube_link.split(\"?\")[0].split(\"/\")[-1]\n",
    "\n",
    "    except:\n",
    "\n",
    "        video_code =\"NA\"\n",
    "        \n"
   ]
  },
  {
   "cell_type": "code",
   "execution_count": 103,
   "metadata": {},
   "outputs": [],
   "source": [
    "contentw=[]\n",
    "for i in soup.find_all('div',class_=\"entry-content\"):\n",
    "    contentw.append(i.text.replace('\\n',''))\n"
   ]
  },
  {
   "cell_type": "code",
   "execution_count": 104,
   "metadata": {},
   "outputs": [
    {
     "data": {
      "text/html": [
       "<div>\n",
       "<style scoped>\n",
       "    .dataframe tbody tr th:only-of-type {\n",
       "        vertical-align: middle;\n",
       "    }\n",
       "\n",
       "    .dataframe tbody tr th {\n",
       "        vertical-align: top;\n",
       "    }\n",
       "\n",
       "    .dataframe thead th {\n",
       "        text-align: right;\n",
       "    }\n",
       "</style>\n",
       "<table border=\"1\" class=\"dataframe\">\n",
       "  <thead>\n",
       "    <tr style=\"text-align: right;\">\n",
       "      <th></th>\n",
       "      <th>Article name</th>\n",
       "      <th>date</th>\n",
       "      <th>content</th>\n",
       "      <th>video</th>\n",
       "    </tr>\n",
       "  </thead>\n",
       "  <tbody>\n",
       "    <tr>\n",
       "      <th>0</th>\n",
       "      <td>Python Tutorial: Zip Files – Creating and Extr...</td>\n",
       "      <td>November 19, 2019</td>\n",
       "      <td>In this video, we will be learning how to crea...</td>\n",
       "      <td>NA</td>\n",
       "    </tr>\n",
       "    <tr>\n",
       "      <th>1</th>\n",
       "      <td>Python Data Science Tutorial: Analyzing the 20...</td>\n",
       "      <td>October 17, 2019</td>\n",
       "      <td>In this Python Programming video, we will be l...</td>\n",
       "      <td>NA</td>\n",
       "    </tr>\n",
       "    <tr>\n",
       "      <th>2</th>\n",
       "      <td>Python Multiprocessing Tutorial: Run Code in P...</td>\n",
       "      <td>September 21, 2019</td>\n",
       "      <td>In this Python Programming video, we will be l...</td>\n",
       "      <td>NA</td>\n",
       "    </tr>\n",
       "    <tr>\n",
       "      <th>3</th>\n",
       "      <td>Python Threading Tutorial: Run Code Concurrent...</td>\n",
       "      <td>September 12, 2019</td>\n",
       "      <td>In this Python Programming video, we will be l...</td>\n",
       "      <td>NA</td>\n",
       "    </tr>\n",
       "    <tr>\n",
       "      <th>4</th>\n",
       "      <td>Update (2019-09-03)</td>\n",
       "      <td>September 3, 2019</td>\n",
       "      <td>Hey everyone. I wanted to give you an update o...</td>\n",
       "      <td>NA</td>\n",
       "    </tr>\n",
       "    <tr>\n",
       "      <th>5</th>\n",
       "      <td>Python Quick Tip: The Difference Between “==” ...</td>\n",
       "      <td>August 6, 2019</td>\n",
       "      <td>In this Python Programming Tutorial, we will b...</td>\n",
       "      <td>NA</td>\n",
       "    </tr>\n",
       "    <tr>\n",
       "      <th>6</th>\n",
       "      <td>Python Tutorial: Calling External Commands Usi...</td>\n",
       "      <td>July 24, 2019</td>\n",
       "      <td>In this Python Programming Tutorial, we will b...</td>\n",
       "      <td>NA</td>\n",
       "    </tr>\n",
       "    <tr>\n",
       "      <th>7</th>\n",
       "      <td>Visual Studio Code (Windows) – Setting up a Py...</td>\n",
       "      <td>May 1, 2019</td>\n",
       "      <td>In this Python Programming Tutorial, we will b...</td>\n",
       "      <td>NA</td>\n",
       "    </tr>\n",
       "    <tr>\n",
       "      <th>8</th>\n",
       "      <td>Visual Studio Code (Mac) – Setting up a Python...</td>\n",
       "      <td>May 1, 2019</td>\n",
       "      <td>In this Python Programming Tutorial, we will b...</td>\n",
       "      <td>NA</td>\n",
       "    </tr>\n",
       "    <tr>\n",
       "      <th>9</th>\n",
       "      <td>Clarifying the Issues with Mutable Default Arg...</td>\n",
       "      <td>April 24, 2019</td>\n",
       "      <td>In this Python Programming Tutorial, we will b...</td>\n",
       "      <td>NA</td>\n",
       "    </tr>\n",
       "  </tbody>\n",
       "</table>\n",
       "</div>"
      ],
      "text/plain": [
       "                                        Article name                date  \\\n",
       "0  Python Tutorial: Zip Files – Creating and Extr...   November 19, 2019   \n",
       "1  Python Data Science Tutorial: Analyzing the 20...    October 17, 2019   \n",
       "2  Python Multiprocessing Tutorial: Run Code in P...  September 21, 2019   \n",
       "3  Python Threading Tutorial: Run Code Concurrent...  September 12, 2019   \n",
       "4                                Update (2019-09-03)   September 3, 2019   \n",
       "5  Python Quick Tip: The Difference Between “==” ...      August 6, 2019   \n",
       "6  Python Tutorial: Calling External Commands Usi...       July 24, 2019   \n",
       "7  Visual Studio Code (Windows) – Setting up a Py...         May 1, 2019   \n",
       "8  Visual Studio Code (Mac) – Setting up a Python...         May 1, 2019   \n",
       "9  Clarifying the Issues with Mutable Default Arg...      April 24, 2019   \n",
       "\n",
       "                                             content video  \n",
       "0  In this video, we will be learning how to crea...    NA  \n",
       "1  In this Python Programming video, we will be l...    NA  \n",
       "2  In this Python Programming video, we will be l...    NA  \n",
       "3  In this Python Programming video, we will be l...    NA  \n",
       "4  Hey everyone. I wanted to give you an update o...    NA  \n",
       "5  In this Python Programming Tutorial, we will b...    NA  \n",
       "6  In this Python Programming Tutorial, we will b...    NA  \n",
       "7  In this Python Programming Tutorial, we will b...    NA  \n",
       "8  In this Python Programming Tutorial, we will b...    NA  \n",
       "9  In this Python Programming Tutorial, we will b...    NA  "
      ]
     },
     "execution_count": 104,
     "metadata": {},
     "output_type": "execute_result"
    }
   ],
   "source": [
    "\n",
    "import pandas as pd\n",
    "df=pd.DataFrame({'Article name':articlesw,'date':datew,'content':contentw,'video':video_code})\n",
    "df"
   ]
  },
  {
   "cell_type": "code",
   "execution_count": null,
   "metadata": {},
   "outputs": [],
   "source": []
  },
  {
   "cell_type": "code",
   "execution_count": null,
   "metadata": {},
   "outputs": [],
   "source": []
  },
  {
   "cell_type": "markdown",
   "metadata": {},
   "source": [
    "8) Write a python program to scrape house details from mentioned URL. It should include house title, location,\n",
    "area, EMI and price from https://www.nobroker.in/ .Enter three localities which are Indira Nagar, Jayanagar, \n",
    "Rajaji Nagar.\n"
   ]
  },
  {
   "cell_type": "code",
   "execution_count": 63,
   "metadata": {},
   "outputs": [
    {
     "data": {
      "text/plain": [
       "<Response [200]>"
      ]
     },
     "execution_count": 63,
     "metadata": {},
     "output_type": "execute_result"
    }
   ],
   "source": [
    "page5 = requests.get(\"https://www.nobroker.in/property/sale/bangalore/multiple?searchParam=W3sibGF0IjoxMi45OTgxNzMyLCJsb24iOjc3LjU1MzA0NDU5OTk5OTk5LCJwbGFjZUlkIjoiQ2hJSnhmVzREUE05cmpzUktzTlRHLTVwX1FRIiwicGxhY2VOYW1lIjoiUmFqYWppbmFnYXIifSx7ImxhdCI6MTIuOTMwNzczNSwibG9uIjo3Ny41ODM4MzAyLCJwbGFjZUlkIjoiQ2hJSjJkZGxaNWdWcmpzUmgxQk9BYWYtb3JzIiwicGxhY2VOYW1lIjoiSmF5YW5hZ2FyIn0seyJsYXQiOjEyLjk3ODM2OTIsImxvbiI6NzcuNjQwODM1NiwicGxhY2VJZCI6IkNoSUprUU4zR0tRV3Jqc1JOaEJRSnJoR0Q3VSIsInBsYWNlTmFtZSI6IkluZGlyYW5hZ2FyIn1d&radius=2.0&city=bangalore&locality=Rajajinagar,&locality=Jayanagar,&locality=Indiranagar\")\n",
    "page5"
   ]
  },
  {
   "cell_type": "code",
   "execution_count": 64,
   "metadata": {},
   "outputs": [],
   "source": [
    "soup = BeautifulSoup(page5.content)\n"
   ]
  },
  {
   "cell_type": "code",
   "execution_count": 65,
   "metadata": {},
   "outputs": [],
   "source": [
    "htitle=[]\n",
    "for i in soup.find_all('span',class_='overflow-hidden overflow-ellipsis whitespace-nowrap max-w-80pe po:max-w-full'):\n",
    "    htitle.append(i.text)\n",
    "    \n",
    "\n"
   ]
  },
  {
   "cell_type": "code",
   "execution_count": 66,
   "metadata": {},
   "outputs": [],
   "source": [
    "hdata=[]\n",
    "for i in soup.find_all('div',class_='font-semi-bold heading-6'):\n",
    "    hdata.append(i.text)\n"
   ]
  },
  {
   "cell_type": "code",
   "execution_count": 67,
   "metadata": {},
   "outputs": [],
   "source": [
    "hemi=[]\n",
    "\n",
    "for i in range(1,len(hdata),3):\n",
    "    hemi.append(hdata[i])\n",
    "    \n"
   ]
  },
  {
   "cell_type": "code",
   "execution_count": 68,
   "metadata": {},
   "outputs": [],
   "source": [
    "harea=[]\n",
    "\n",
    "for i in range(0,len(hdata),3):\n",
    "    harea.append(hdata[i])\n",
    "    \n"
   ]
  },
  {
   "cell_type": "code",
   "execution_count": 69,
   "metadata": {},
   "outputs": [],
   "source": [
    "hprice=[]\n",
    "\n",
    "for i in range(2,len(hdata),3):\n",
    "    hprice.append(hdata[i])\n",
    "    \n"
   ]
  },
  {
   "cell_type": "code",
   "execution_count": 70,
   "metadata": {},
   "outputs": [],
   "source": [
    "hloc=[]\n",
    "for i in soup.find_all('div',class_=\"mt-0.5p overflow-hidden overflow-ellipsis whitespace-nowrap max-w-70 text-gray-light leading-4 po:mb-0 po:max-w-95\"):\n",
    "    hloc.append(i.text.replace('\\xa0',','))\n",
    "        \n"
   ]
  },
  {
   "cell_type": "code",
   "execution_count": 71,
   "metadata": {},
   "outputs": [
    {
     "data": {
      "text/html": [
       "<div>\n",
       "<style scoped>\n",
       "    .dataframe tbody tr th:only-of-type {\n",
       "        vertical-align: middle;\n",
       "    }\n",
       "\n",
       "    .dataframe tbody tr th {\n",
       "        vertical-align: top;\n",
       "    }\n",
       "\n",
       "    .dataframe thead th {\n",
       "        text-align: right;\n",
       "    }\n",
       "</style>\n",
       "<table border=\"1\" class=\"dataframe\">\n",
       "  <thead>\n",
       "    <tr style=\"text-align: right;\">\n",
       "      <th></th>\n",
       "      <th>home title</th>\n",
       "      <th>location</th>\n",
       "      <th>area</th>\n",
       "      <th>price</th>\n",
       "      <th>EMI</th>\n",
       "    </tr>\n",
       "  </thead>\n",
       "  <tbody>\n",
       "    <tr>\n",
       "      <th>0</th>\n",
       "      <td>2 BHK Flat  For Sale  In Jains Prakruti, Jayan...</td>\n",
       "      <td>Kanakapura Road, Jayanagar, Bangalore, Karnata...</td>\n",
       "      <td>1,301 sqft</td>\n",
       "      <td>₹1.5 Crores</td>\n",
       "      <td>₹85,971/Month</td>\n",
       "    </tr>\n",
       "    <tr>\n",
       "      <th>1</th>\n",
       "      <td>4 BHK In Independent House  For Sale  In Jayan...</td>\n",
       "      <td>Independent House, SBI Branch Jayanagar 9th bl...</td>\n",
       "      <td>2,600 sqft</td>\n",
       "      <td>₹2.7 Crores</td>\n",
       "      <td>₹1.55 Lacs/Month</td>\n",
       "    </tr>\n",
       "    <tr>\n",
       "      <th>2</th>\n",
       "      <td>3 BHK Flat  For Sale  In Benaka Apartments In ...</td>\n",
       "      <td>871, 5th Cross Rd, Indira Nagar 1st Stage, Sta...</td>\n",
       "      <td>1,331 sqft</td>\n",
       "      <td>₹85 Lacs</td>\n",
       "      <td>₹48,717/Month</td>\n",
       "    </tr>\n",
       "    <tr>\n",
       "      <th>3</th>\n",
       "      <td>4+ BHK In Independent House  For Sale  In Prak...</td>\n",
       "      <td>Independent House, 6th C cross 3rd main rd nea...</td>\n",
       "      <td>2,200 sqft</td>\n",
       "      <td>₹1.35 Crores</td>\n",
       "      <td>₹77,374/Month</td>\n",
       "    </tr>\n",
       "    <tr>\n",
       "      <th>4</th>\n",
       "      <td>3 BHK Apartment  For Sale  In Brigade Gateway ...</td>\n",
       "      <td>Brigade Gateway, Dr Rajkumar Road, Rajaji Naga...</td>\n",
       "      <td>1,640 sqft</td>\n",
       "      <td>₹2.62 Crores</td>\n",
       "      <td>₹1.5 Lacs/Month</td>\n",
       "    </tr>\n",
       "  </tbody>\n",
       "</table>\n",
       "</div>"
      ],
      "text/plain": [
       "                                          home title  \\\n",
       "0  2 BHK Flat  For Sale  In Jains Prakruti, Jayan...   \n",
       "1  4 BHK In Independent House  For Sale  In Jayan...   \n",
       "2  3 BHK Flat  For Sale  In Benaka Apartments In ...   \n",
       "3  4+ BHK In Independent House  For Sale  In Prak...   \n",
       "4  3 BHK Apartment  For Sale  In Brigade Gateway ...   \n",
       "\n",
       "                                            location        area  \\\n",
       "0  Kanakapura Road, Jayanagar, Bangalore, Karnata...  1,301 sqft   \n",
       "1  Independent House, SBI Branch Jayanagar 9th bl...  2,600 sqft   \n",
       "2  871, 5th Cross Rd, Indira Nagar 1st Stage, Sta...  1,331 sqft   \n",
       "3  Independent House, 6th C cross 3rd main rd nea...  2,200 sqft   \n",
       "4  Brigade Gateway, Dr Rajkumar Road, Rajaji Naga...  1,640 sqft   \n",
       "\n",
       "          price               EMI  \n",
       "0   ₹1.5 Crores     ₹85,971/Month  \n",
       "1   ₹2.7 Crores  ₹1.55 Lacs/Month  \n",
       "2      ₹85 Lacs     ₹48,717/Month  \n",
       "3  ₹1.35 Crores     ₹77,374/Month  \n",
       "4  ₹2.62 Crores   ₹1.5 Lacs/Month  "
      ]
     },
     "execution_count": 71,
     "metadata": {},
     "output_type": "execute_result"
    }
   ],
   "source": [
    "\n",
    "import pandas as pd\n",
    "df=pd.DataFrame({'home title':htitle,'location':hloc,'area':harea,'price':hprice,'EMI':hemi})\n",
    "df"
   ]
  },
  {
   "cell_type": "code",
   "execution_count": null,
   "metadata": {},
   "outputs": [],
   "source": []
  },
  {
   "cell_type": "code",
   "execution_count": null,
   "metadata": {},
   "outputs": [],
   "source": []
  },
  {
   "cell_type": "code",
   "execution_count": null,
   "metadata": {},
   "outputs": [],
   "source": []
  },
  {
   "cell_type": "markdown",
   "metadata": {},
   "source": [
    "\n",
    "9) Write a python program to scrape mentioned details from dineout.co.in :\n",
    "i) Restaurant name\n",
    "ii) Cuisine\n",
    "iii) Location\n",
    "iv) Ratings\n",
    "v) Image URL"
   ]
  },
  {
   "cell_type": "code",
   "execution_count": 72,
   "metadata": {},
   "outputs": [],
   "source": [
    "hote=requests.get(\"https://www.dineout.co.in/delhi-restaurants/buffet-special\")\n",
    "soup=BeautifulSoup(hote.content)\n",
    "\n"
   ]
  },
  {
   "cell_type": "code",
   "execution_count": 73,
   "metadata": {},
   "outputs": [],
   "source": [
    "honame=soup.find_all('div',class_=\"restnt-info cursor\")\n"
   ]
  },
  {
   "cell_type": "code",
   "execution_count": 74,
   "metadata": {},
   "outputs": [],
   "source": [
    "holoc=soup.find_all('div',class_=\"restnt-loc ellipsis\")\n"
   ]
  },
  {
   "cell_type": "code",
   "execution_count": 75,
   "metadata": {},
   "outputs": [],
   "source": [
    "hopri=soup.find_all('span',class_=\"double-line-ellipsis\")\n",
    "                   "
   ]
  },
  {
   "cell_type": "code",
   "execution_count": 76,
   "metadata": {},
   "outputs": [],
   "source": [
    "allname=[]\n",
    "for i in soup.find_all('div',class_=\"restnt-info cursor\"):\n",
    "    allname.append(i.text)\n",
    "    \n"
   ]
  },
  {
   "cell_type": "code",
   "execution_count": 77,
   "metadata": {},
   "outputs": [],
   "source": [
    "allloc=[]\n",
    "for i in soup.find_all('div',class_=\"restnt-loc ellipsis\"):\n",
    "    allloc.append(i.text)\n",
    "    \n"
   ]
  },
  {
   "cell_type": "code",
   "execution_count": 78,
   "metadata": {},
   "outputs": [],
   "source": [
    "allprice=[]\n",
    "for i in soup.find_all('span',class_=\"double-line-ellipsis\"):\n",
    "    allprice.append(i.text.replace('₹',''))\n",
    "    \n"
   ]
  },
  {
   "cell_type": "code",
   "execution_count": 79,
   "metadata": {},
   "outputs": [],
   "source": [
    "hoimg=soup.find_all('img',class_=\"no-img\")"
   ]
  },
  {
   "cell_type": "code",
   "execution_count": 80,
   "metadata": {},
   "outputs": [],
   "source": [
    "allimg=[]\n",
    "for i in soup.find_all('img',class_=\"no-img\"):\n",
    "    allimg.append(i['data-src'])\n",
    "    \n"
   ]
  },
  {
   "cell_type": "code",
   "execution_count": 81,
   "metadata": {},
   "outputs": [],
   "source": [
    "allrate=[]\n",
    "for i in soup.find_all('div',class_=\"restnt-rating rating-4\"):\n",
    "    allrate.append(i.text)\n",
    "    "
   ]
  },
  {
   "cell_type": "code",
   "execution_count": 82,
   "metadata": {},
   "outputs": [
    {
     "name": "stdout",
     "output_type": "stream",
     "text": [
      "13 13 13 13 13\n"
     ]
    }
   ],
   "source": [
    "print(len(allname),len(allloc),len(allprice),len(allimg),len(allrate))"
   ]
  },
  {
   "cell_type": "code",
   "execution_count": 83,
   "metadata": {},
   "outputs": [
    {
     "data": {
      "text/html": [
       "<div>\n",
       "<style scoped>\n",
       "    .dataframe tbody tr th:only-of-type {\n",
       "        vertical-align: middle;\n",
       "    }\n",
       "\n",
       "    .dataframe tbody tr th {\n",
       "        vertical-align: top;\n",
       "    }\n",
       "\n",
       "    .dataframe thead th {\n",
       "        text-align: right;\n",
       "    }\n",
       "</style>\n",
       "<table border=\"1\" class=\"dataframe\">\n",
       "  <thead>\n",
       "    <tr style=\"text-align: right;\">\n",
       "      <th></th>\n",
       "      <th>name</th>\n",
       "      <th>loc</th>\n",
       "      <th>price</th>\n",
       "      <th>img_url</th>\n",
       "      <th>rating</th>\n",
       "    </tr>\n",
       "  </thead>\n",
       "  <tbody>\n",
       "    <tr>\n",
       "      <th>0</th>\n",
       "      <td>Castle BarbequeConnaught Place, Central Delhi</td>\n",
       "      <td>Connaught Place, Central Delhi</td>\n",
       "      <td>2,000 for 2 (approx) | North Indian, Chinese</td>\n",
       "      <td>https://im1.dineout.co.in/images/uploads/resta...</td>\n",
       "      <td>3.5</td>\n",
       "    </tr>\n",
       "    <tr>\n",
       "      <th>1</th>\n",
       "      <td>Jungle Jamboree3CS Mall,Lajpat Nagar - 3, Sout...</td>\n",
       "      <td>3CS Mall,Lajpat Nagar - 3, South Delhi</td>\n",
       "      <td>1,400 for 2 (approx) | North Indian, Asian, I...</td>\n",
       "      <td>https://im1.dineout.co.in/images/uploads/resta...</td>\n",
       "      <td>3.9</td>\n",
       "    </tr>\n",
       "    <tr>\n",
       "      <th>2</th>\n",
       "      <td>Castle BarbequePacific Mall,Tagore Garden, Wes...</td>\n",
       "      <td>Pacific Mall,Tagore Garden, West Delhi</td>\n",
       "      <td>2,000 for 2 (approx) | Chinese, North Indian</td>\n",
       "      <td>https://im1.dineout.co.in/images/uploads/resta...</td>\n",
       "      <td>3.9</td>\n",
       "    </tr>\n",
       "    <tr>\n",
       "      <th>3</th>\n",
       "      <td>Cafe KnoshThe Leela Ambience Convention Hotel,...</td>\n",
       "      <td>The Leela Ambience Convention Hotel,Shahdara, ...</td>\n",
       "      <td>3,000 for 2 (approx) | Italian, Continental</td>\n",
       "      <td>https://im1.dineout.co.in/images/uploads/resta...</td>\n",
       "      <td>4.3</td>\n",
       "    </tr>\n",
       "    <tr>\n",
       "      <th>4</th>\n",
       "      <td>The Barbeque CompanyGardens Galleria,Sector 38...</td>\n",
       "      <td>Gardens Galleria,Sector 38A, Noida</td>\n",
       "      <td>1,700 for 2 (approx) | North Indian, Chinese</td>\n",
       "      <td>https://im1.dineout.co.in/images/uploads/resta...</td>\n",
       "      <td>4</td>\n",
       "    </tr>\n",
       "    <tr>\n",
       "      <th>5</th>\n",
       "      <td>India GrillHilton Garden Inn,Saket, South Delhi</td>\n",
       "      <td>Hilton Garden Inn,Saket, South Delhi</td>\n",
       "      <td>2,400 for 2 (approx) | North Indian, Italian</td>\n",
       "      <td>https://im1.dineout.co.in/images/uploads/resta...</td>\n",
       "      <td>3.9</td>\n",
       "    </tr>\n",
       "    <tr>\n",
       "      <th>6</th>\n",
       "      <td>Delhi BarbequeTaurus Sarovar Portico,Mahipalpu...</td>\n",
       "      <td>Taurus Sarovar Portico,Mahipalpur, South Delhi</td>\n",
       "      <td>1,800 for 2 (approx) | North Indian</td>\n",
       "      <td>https://im1.dineout.co.in/images/uploads/resta...</td>\n",
       "      <td>3.7</td>\n",
       "    </tr>\n",
       "    <tr>\n",
       "      <th>7</th>\n",
       "      <td>The Monarch - Bar Be Que VillageIndirapuram Ha...</td>\n",
       "      <td>Indirapuram Habitat Centre,Indirapuram, Ghaziabad</td>\n",
       "      <td>1,900 for 2 (approx) | North Indian, Chinese</td>\n",
       "      <td>https://im1.dineout.co.in/images/uploads/resta...</td>\n",
       "      <td>3.8</td>\n",
       "    </tr>\n",
       "    <tr>\n",
       "      <th>8</th>\n",
       "      <td>World CafeVibe by The Lalit Traveller,Sector 3...</td>\n",
       "      <td>Vibe by The Lalit Traveller,Sector 35, Faridabad</td>\n",
       "      <td>1,800 for 2 (approx) | North Indian, Chinese,...</td>\n",
       "      <td>https://im1.dineout.co.in/images/uploads/resta...</td>\n",
       "      <td>4.2</td>\n",
       "    </tr>\n",
       "    <tr>\n",
       "      <th>9</th>\n",
       "      <td>Indian Grill RoomSuncity Business Tower,Golf C...</td>\n",
       "      <td>Suncity Business Tower,Golf Course Road, Gurgaon</td>\n",
       "      <td>2,000 for 2 (approx) | North Indian, Mughlai</td>\n",
       "      <td>https://im1.dineout.co.in/images/uploads/resta...</td>\n",
       "      <td>4.3</td>\n",
       "    </tr>\n",
       "    <tr>\n",
       "      <th>10</th>\n",
       "      <td>Mad 4 Bar B QueSector 29, Faridabad</td>\n",
       "      <td>Sector 29, Faridabad</td>\n",
       "      <td>800 for 2 (approx) | North Indian</td>\n",
       "      <td>https://im1.dineout.co.in/images/uploads/resta...</td>\n",
       "      <td>3.6</td>\n",
       "    </tr>\n",
       "    <tr>\n",
       "      <th>11</th>\n",
       "      <td>Barbeque 29NIT, Faridabad</td>\n",
       "      <td>NIT, Faridabad</td>\n",
       "      <td>1,500 for 2 (approx) | North Indian, Mughlai,...</td>\n",
       "      <td>https://im1.dineout.co.in/images/uploads/resta...</td>\n",
       "      <td>4.2</td>\n",
       "    </tr>\n",
       "    <tr>\n",
       "      <th>12</th>\n",
       "      <td>GlasshouseDoubleTree By Hilton Gurugram Baani ...</td>\n",
       "      <td>DoubleTree By Hilton Gurugram Baani Square,Sec...</td>\n",
       "      <td>3,400 for 2 (approx) | European, Italian, Asi...</td>\n",
       "      <td>https://im1.dineout.co.in/images/uploads/resta...</td>\n",
       "      <td>4</td>\n",
       "    </tr>\n",
       "  </tbody>\n",
       "</table>\n",
       "</div>"
      ],
      "text/plain": [
       "                                                 name  \\\n",
       "0       Castle BarbequeConnaught Place, Central Delhi   \n",
       "1   Jungle Jamboree3CS Mall,Lajpat Nagar - 3, Sout...   \n",
       "2   Castle BarbequePacific Mall,Tagore Garden, Wes...   \n",
       "3   Cafe KnoshThe Leela Ambience Convention Hotel,...   \n",
       "4   The Barbeque CompanyGardens Galleria,Sector 38...   \n",
       "5     India GrillHilton Garden Inn,Saket, South Delhi   \n",
       "6   Delhi BarbequeTaurus Sarovar Portico,Mahipalpu...   \n",
       "7   The Monarch - Bar Be Que VillageIndirapuram Ha...   \n",
       "8   World CafeVibe by The Lalit Traveller,Sector 3...   \n",
       "9   Indian Grill RoomSuncity Business Tower,Golf C...   \n",
       "10                Mad 4 Bar B QueSector 29, Faridabad   \n",
       "11                          Barbeque 29NIT, Faridabad   \n",
       "12  GlasshouseDoubleTree By Hilton Gurugram Baani ...   \n",
       "\n",
       "                                                  loc  \\\n",
       "0                      Connaught Place, Central Delhi   \n",
       "1              3CS Mall,Lajpat Nagar - 3, South Delhi   \n",
       "2              Pacific Mall,Tagore Garden, West Delhi   \n",
       "3   The Leela Ambience Convention Hotel,Shahdara, ...   \n",
       "4                  Gardens Galleria,Sector 38A, Noida   \n",
       "5                Hilton Garden Inn,Saket, South Delhi   \n",
       "6      Taurus Sarovar Portico,Mahipalpur, South Delhi   \n",
       "7   Indirapuram Habitat Centre,Indirapuram, Ghaziabad   \n",
       "8    Vibe by The Lalit Traveller,Sector 35, Faridabad   \n",
       "9    Suncity Business Tower,Golf Course Road, Gurgaon   \n",
       "10                               Sector 29, Faridabad   \n",
       "11                                     NIT, Faridabad   \n",
       "12  DoubleTree By Hilton Gurugram Baani Square,Sec...   \n",
       "\n",
       "                                                price  \\\n",
       "0        2,000 for 2 (approx) | North Indian, Chinese   \n",
       "1    1,400 for 2 (approx) | North Indian, Asian, I...   \n",
       "2        2,000 for 2 (approx) | Chinese, North Indian   \n",
       "3         3,000 for 2 (approx) | Italian, Continental   \n",
       "4        1,700 for 2 (approx) | North Indian, Chinese   \n",
       "5        2,400 for 2 (approx) | North Indian, Italian   \n",
       "6                 1,800 for 2 (approx) | North Indian   \n",
       "7        1,900 for 2 (approx) | North Indian, Chinese   \n",
       "8    1,800 for 2 (approx) | North Indian, Chinese,...   \n",
       "9        2,000 for 2 (approx) | North Indian, Mughlai   \n",
       "10                  800 for 2 (approx) | North Indian   \n",
       "11   1,500 for 2 (approx) | North Indian, Mughlai,...   \n",
       "12   3,400 for 2 (approx) | European, Italian, Asi...   \n",
       "\n",
       "                                              img_url rating  \n",
       "0   https://im1.dineout.co.in/images/uploads/resta...    3.5  \n",
       "1   https://im1.dineout.co.in/images/uploads/resta...    3.9  \n",
       "2   https://im1.dineout.co.in/images/uploads/resta...    3.9  \n",
       "3   https://im1.dineout.co.in/images/uploads/resta...    4.3  \n",
       "4   https://im1.dineout.co.in/images/uploads/resta...      4  \n",
       "5   https://im1.dineout.co.in/images/uploads/resta...    3.9  \n",
       "6   https://im1.dineout.co.in/images/uploads/resta...    3.7  \n",
       "7   https://im1.dineout.co.in/images/uploads/resta...    3.8  \n",
       "8   https://im1.dineout.co.in/images/uploads/resta...    4.2  \n",
       "9   https://im1.dineout.co.in/images/uploads/resta...    4.3  \n",
       "10  https://im1.dineout.co.in/images/uploads/resta...    3.6  \n",
       "11  https://im1.dineout.co.in/images/uploads/resta...    4.2  \n",
       "12  https://im1.dineout.co.in/images/uploads/resta...      4  "
      ]
     },
     "execution_count": 83,
     "metadata": {},
     "output_type": "execute_result"
    }
   ],
   "source": [
    "import pandas as pd\n",
    "df=pd.DataFrame({'name':allname,'loc':allloc,'price':allprice,'img_url':allimg,'rating':allrate})\n",
    "df\n"
   ]
  },
  {
   "cell_type": "code",
   "execution_count": null,
   "metadata": {},
   "outputs": [],
   "source": []
  },
  {
   "cell_type": "code",
   "execution_count": null,
   "metadata": {},
   "outputs": [],
   "source": []
  },
  {
   "cell_type": "code",
   "execution_count": null,
   "metadata": {},
   "outputs": [],
   "source": []
  },
  {
   "cell_type": "markdown",
   "metadata": {},
   "source": [
    "10.Write a python program to scrape first 10 product details which include product name , price , Image URL from bewakoof."
   ]
  },
  {
   "cell_type": "code",
   "execution_count": 84,
   "metadata": {},
   "outputs": [
    {
     "data": {
      "text/plain": [
       "<Response [200]>"
      ]
     },
     "execution_count": 84,
     "metadata": {},
     "output_type": "execute_result"
    }
   ],
   "source": [
    "page = requests.get(\"https://www.bewakoof.com/women-t-shirts?ga_q=t-shirt%20for%20wo\")\n",
    "page\n"
   ]
  },
  {
   "cell_type": "code",
   "execution_count": 85,
   "metadata": {},
   "outputs": [],
   "source": [
    "soup=BeautifulSoup(page.content)"
   ]
  },
  {
   "cell_type": "code",
   "execution_count": 86,
   "metadata": {},
   "outputs": [],
   "source": [
    "shopt=soup.find_all(['h3'])\n",
    "\n",
    "allshopt=[]\n",
    "for i in soup.find_all(['h3'])[:10]:\n",
    "    allshopt.append(i.text)\n",
    "    \n",
    "\n",
    "\n"
   ]
  },
  {
   "cell_type": "code",
   "execution_count": 87,
   "metadata": {},
   "outputs": [],
   "source": [
    "shopt=soup.find_all(['b'])\n",
    "\n",
    "allshoptpri=[]\n",
    "for i in soup.find_all(['b'])[:10]:\n",
    "    allshoptpri.append(i.text.replace('₹',''))\n",
    "    \n",
    "\n",
    "\n"
   ]
  },
  {
   "cell_type": "code",
   "execution_count": 88,
   "metadata": {},
   "outputs": [],
   "source": [
    "image_url = []\n",
    "\n",
    "for i in soup.find_all('img',class_=\"productImgTag\")[:10]: \n",
    "\n",
    "    image_url.append(i.get('src')) \n",
    "\n",
    "    \n",
    "\n"
   ]
  },
  {
   "cell_type": "code",
   "execution_count": 89,
   "metadata": {},
   "outputs": [
    {
     "data": {
      "text/html": [
       "<div>\n",
       "<style scoped>\n",
       "    .dataframe tbody tr th:only-of-type {\n",
       "        vertical-align: middle;\n",
       "    }\n",
       "\n",
       "    .dataframe tbody tr th {\n",
       "        vertical-align: top;\n",
       "    }\n",
       "\n",
       "    .dataframe thead th {\n",
       "        text-align: right;\n",
       "    }\n",
       "</style>\n",
       "<table border=\"1\" class=\"dataframe\">\n",
       "  <thead>\n",
       "    <tr style=\"text-align: right;\">\n",
       "      <th></th>\n",
       "      <th>name</th>\n",
       "      <th>price</th>\n",
       "      <th>image</th>\n",
       "    </tr>\n",
       "  </thead>\n",
       "  <tbody>\n",
       "    <tr>\n",
       "      <th>0</th>\n",
       "      <td>Happy Today Boyfriend T-Shirt</td>\n",
       "      <td>399</td>\n",
       "      <td>https://images.bewakoof.com/t320/happy-today-b...</td>\n",
       "    </tr>\n",
       "    <tr>\n",
       "      <th>1</th>\n",
       "      <td>Women's True Indigo Printed T-Shirt</td>\n",
       "      <td>379</td>\n",
       "      <td>https://images.bewakoof.com/t320/women-s-true-...</td>\n",
       "    </tr>\n",
       "    <tr>\n",
       "      <th>2</th>\n",
       "      <td>Sprinkles Half Sleeves AOP T-Shirts</td>\n",
       "      <td>349</td>\n",
       "      <td>https://images.bewakoof.com/t320/sprinkles-hal...</td>\n",
       "    </tr>\n",
       "    <tr>\n",
       "      <th>3</th>\n",
       "      <td>Coral Blush Melange Color Block Raglan Melange...</td>\n",
       "      <td>319</td>\n",
       "      <td>https://images.bewakoof.com/t320/coral-blush-m...</td>\n",
       "    </tr>\n",
       "    <tr>\n",
       "      <th>4</th>\n",
       "      <td>Grey Melange Color Block Raglan T-Shirt</td>\n",
       "      <td>349</td>\n",
       "      <td>https://images.bewakoof.com/t320/grey-melange-...</td>\n",
       "    </tr>\n",
       "    <tr>\n",
       "      <th>5</th>\n",
       "      <td>Ice Water Blue Half Sleeves Tape T-Shirt</td>\n",
       "      <td>319</td>\n",
       "      <td>https://images.bewakoof.com/t320/ice-water-blu...</td>\n",
       "    </tr>\n",
       "    <tr>\n",
       "      <th>6</th>\n",
       "      <td>Black-Quiet Grey Half Sleeves Tape T-Shirt</td>\n",
       "      <td>349</td>\n",
       "      <td>https://images.bewakoof.com/t320/black-quiet-g...</td>\n",
       "    </tr>\n",
       "    <tr>\n",
       "      <th>7</th>\n",
       "      <td>Chili Pepper Half Sleeves Tape T-shirt</td>\n",
       "      <td>319</td>\n",
       "      <td>https://images.bewakoof.com/t320/chili-pepper-...</td>\n",
       "    </tr>\n",
       "    <tr>\n",
       "      <th>8</th>\n",
       "      <td>Extra Fries Half Sleeve Printed T-Shirt Black</td>\n",
       "      <td>349</td>\n",
       "      <td>https://images.bewakoof.com/t320/extra-fries-h...</td>\n",
       "    </tr>\n",
       "    <tr>\n",
       "      <th>9</th>\n",
       "      <td>Women's White Extra Fries Boyfriend T-shirt</td>\n",
       "      <td>319</td>\n",
       "      <td>https://images.bewakoof.com/t320/extra-fries-b...</td>\n",
       "    </tr>\n",
       "  </tbody>\n",
       "</table>\n",
       "</div>"
      ],
      "text/plain": [
       "                                                name price  \\\n",
       "0                      Happy Today Boyfriend T-Shirt   399   \n",
       "1                Women's True Indigo Printed T-Shirt   379   \n",
       "2                Sprinkles Half Sleeves AOP T-Shirts   349   \n",
       "3  Coral Blush Melange Color Block Raglan Melange...   319   \n",
       "4            Grey Melange Color Block Raglan T-Shirt   349   \n",
       "5           Ice Water Blue Half Sleeves Tape T-Shirt   319   \n",
       "6         Black-Quiet Grey Half Sleeves Tape T-Shirt   349   \n",
       "7             Chili Pepper Half Sleeves Tape T-shirt   319   \n",
       "8      Extra Fries Half Sleeve Printed T-Shirt Black   349   \n",
       "9        Women's White Extra Fries Boyfriend T-shirt   319   \n",
       "\n",
       "                                               image  \n",
       "0  https://images.bewakoof.com/t320/happy-today-b...  \n",
       "1  https://images.bewakoof.com/t320/women-s-true-...  \n",
       "2  https://images.bewakoof.com/t320/sprinkles-hal...  \n",
       "3  https://images.bewakoof.com/t320/coral-blush-m...  \n",
       "4  https://images.bewakoof.com/t320/grey-melange-...  \n",
       "5  https://images.bewakoof.com/t320/ice-water-blu...  \n",
       "6  https://images.bewakoof.com/t320/black-quiet-g...  \n",
       "7  https://images.bewakoof.com/t320/chili-pepper-...  \n",
       "8  https://images.bewakoof.com/t320/extra-fries-h...  \n",
       "9  https://images.bewakoof.com/t320/extra-fries-b...  "
      ]
     },
     "execution_count": 89,
     "metadata": {},
     "output_type": "execute_result"
    }
   ],
   "source": [
    "import pandas as pd\n",
    "df=pd.DataFrame({'name':allshopt,'price':allshoptpri,'image':image_url})\n",
    "df\n",
    "    \n"
   ]
  },
  {
   "cell_type": "markdown",
   "metadata": {},
   "source": []
  },
  {
   "cell_type": "code",
   "execution_count": null,
   "metadata": {},
   "outputs": [],
   "source": []
  },
  {
   "cell_type": "code",
   "execution_count": null,
   "metadata": {},
   "outputs": [],
   "source": []
  },
  {
   "cell_type": "code",
   "execution_count": null,
   "metadata": {},
   "outputs": [],
   "source": []
  }
 ],
 "metadata": {
  "kernelspec": {
   "display_name": "Python 3",
   "language": "python",
   "name": "python3"
  },
  "language_info": {
   "codemirror_mode": {
    "name": "ipython",
    "version": 3
   },
   "file_extension": ".py",
   "mimetype": "text/x-python",
   "name": "python",
   "nbconvert_exporter": "python",
   "pygments_lexer": "ipython3",
   "version": "3.7.6"
  }
 },
 "nbformat": 4,
 "nbformat_minor": 4
}
