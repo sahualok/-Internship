{
 "cells": [
  {
   "cell_type": "code",
   "execution_count": null,
   "metadata": {},
   "outputs": [],
   "source": [
    "!pip install  selenium"
   ]
  },
  {
   "cell_type": "code",
   "execution_count": 1,
   "metadata": {},
   "outputs": [],
   "source": [
    "import pandas as pd \n",
    "import selenium \n",
    "from selenium import webdriver\n",
    "import warnings\n",
    "warnings.filterwarnings(\"ignore\")\n",
    "import time"
   ]
  },
  {
   "cell_type": "code",
   "execution_count": null,
   "metadata": {},
   "outputs": [],
   "source": []
  },
  {
   "cell_type": "code",
   "execution_count": null,
   "metadata": {},
   "outputs": [],
   "source": []
  },
  {
   "cell_type": "markdown",
   "metadata": {},
   "source": [
    "### solution 1"
   ]
  },
  {
   "cell_type": "code",
   "execution_count": null,
   "metadata": {},
   "outputs": [],
   "source": [
    "driver = webdriver.Chrome(r\"C:\\Users\\sahu\\Downloads\\chromedriver_win32\\chromedriver.exe\")\n",
    "driver=webdriver.Chrome(\"chromedriver.exe\")\n",
    "time.sleep(2)\n",
    "driver.get('https://www.naukri.com/')"
   ]
  },
  {
   "cell_type": "code",
   "execution_count": null,
   "metadata": {},
   "outputs": [],
   "source": [
    "search_field_designation=driver.find_element_by_class_name(\"suggestor-input \")#job search\n",
    "search_field_designation.send_keys(\"Data Analyst\")\n",
    "search_field_location=driver.find_element_by_xpath(\"/html/body/div/div[2]/div[3]/div/div/div[3]/div/div/div/input\")\n",
    "search_field_location.send_keys(\"Bangalore\")#giving location"
   ]
  },
  {
   "cell_type": "code",
   "execution_count": null,
   "metadata": {},
   "outputs": [],
   "source": [
    "\n",
    "search_button=driver.find_element_by_xpath(\"/html/body/div/div[2]/div[3]/div/div/div[6]\")\n",
    "search_button.click()#proceed by clicking search button"
   ]
  },
  {
   "cell_type": "code",
   "execution_count": null,
   "metadata": {},
   "outputs": [],
   "source": [
    "job_title=[]\n",
    "location_list=[]\n",
    "company_names=[]\n",
    "exprience_req=[]\n",
    "\n"
   ]
  },
  {
   "cell_type": "code",
   "execution_count": null,
   "metadata": {},
   "outputs": [],
   "source": [
    "title_tags=driver.find_elements_by_xpath(\"//a[@class='title fw500 ellipsis']\")\n",
    "title_tags[0:10]"
   ]
  },
  {
   "cell_type": "code",
   "execution_count": null,
   "metadata": {},
   "outputs": [],
   "source": [
    "for i in title_tags:\n",
    "    title=i.text\n",
    "    job_title.append(title)\n",
    "job_title[0:10]"
   ]
  },
  {
   "cell_type": "code",
   "execution_count": null,
   "metadata": {},
   "outputs": [],
   "source": [
    "company_tag=driver.find_elements_by_xpath(\"//a[@class='subTitle ellipsis fleft']\")\n",
    "company_tag[0:10]"
   ]
  },
  {
   "cell_type": "code",
   "execution_count": null,
   "metadata": {
    "scrolled": true
   },
   "outputs": [],
   "source": [
    "for i in company_tag:\n",
    "    company_name=i.text\n",
    "    company_names.append(company_name)\n",
    "company_names[0:10]"
   ]
  },
  {
   "cell_type": "code",
   "execution_count": null,
   "metadata": {},
   "outputs": [],
   "source": [
    "exprience_tag=driver.find_elements_by_xpath(\"//li[@class='fleft grey-text br2 placeHolderLi experience']/span[1]\")\n",
    "exprience_tag[0:10]"
   ]
  },
  {
   "cell_type": "code",
   "execution_count": null,
   "metadata": {},
   "outputs": [],
   "source": [
    "for i in exprience_tag:\n",
    "    exp=i.text\n",
    "    exprience_req.append(exp)\n",
    "exprience_req[0:10]"
   ]
  },
  {
   "cell_type": "code",
   "execution_count": null,
   "metadata": {},
   "outputs": [],
   "source": [
    "\n",
    "location_tag=driver.find_elements_by_xpath(\"//li[@class='fleft grey-text br2 placeHolderLi location']/span[1]\")\n",
    "location_tag[0:10]\n",
    "for i in location_tag:\n",
    "    loca=i.text\n",
    "    location_list.append(loca)\n",
    "location_list[0:10]"
   ]
  },
  {
   "cell_type": "code",
   "execution_count": null,
   "metadata": {},
   "outputs": [],
   "source": [
    "print(len(job_title),\n",
    "len(location_list),\n",
    "len(company_names),\n",
    "len(exprience_req))\n"
   ]
  },
  {
   "cell_type": "code",
   "execution_count": null,
   "metadata": {},
   "outputs": [],
   "source": [
    "import pandas as pd\n",
    "df=pd.DataFrame({'job title':job_title,'location':location_list,'company':company_names,'exprience':exprience_req})\n",
    "df\n"
   ]
  },
  {
   "cell_type": "markdown",
   "metadata": {},
   "source": [
    "### solution 2"
   ]
  },
  {
   "cell_type": "code",
   "execution_count": null,
   "metadata": {},
   "outputs": [],
   "source": [
    "driver = webdriver.Chrome(r\"C:\\Users\\sahu\\Downloads\\chromedriver_win32\\chromedriver.exe\")\n",
    "driver=webdriver.Chrome(\"chromedriver.exe\")\n",
    "time.sleep(2)\n",
    "driver.get('https://www.naukri.com/')\n"
   ]
  },
  {
   "cell_type": "code",
   "execution_count": null,
   "metadata": {},
   "outputs": [],
   "source": [
    "search_field_designation=driver.find_element_by_class_name(\"suggestor-input \")#job search\n",
    "search_field_designation.send_keys(\"Data Scientist\")\n",
    "search_field_location=driver.find_element_by_xpath(\"/html/body/div/div[2]/div[3]/div/div/div[3]/div/div/div/input\")\n",
    "search_field_location.send_keys(\"Bangalore\")\n"
   ]
  },
  {
   "cell_type": "code",
   "execution_count": null,
   "metadata": {},
   "outputs": [],
   "source": [
    "search_button=driver.find_element_by_xpath(\"/html/body/div/div[2]/div[3]/div/div/div[6]\")\n",
    "search_button.click()"
   ]
  },
  {
   "cell_type": "code",
   "execution_count": null,
   "metadata": {},
   "outputs": [],
   "source": [
    "job_title1=[]\n",
    "location_list1=[]\n",
    "company_names1=[]\n",
    "exprience_req1=[]"
   ]
  },
  {
   "cell_type": "code",
   "execution_count": null,
   "metadata": {},
   "outputs": [],
   "source": [
    "title_tags=driver.find_elements_by_xpath(\"//a[@class='title fw500 ellipsis']\")\n",
    "title_tags[0:10]"
   ]
  },
  {
   "cell_type": "code",
   "execution_count": null,
   "metadata": {},
   "outputs": [],
   "source": [
    "for i in title_tags:\n",
    "    title=i.text\n",
    "    job_title1.append(title)\n",
    "job_title1[0:10]"
   ]
  },
  {
   "cell_type": "code",
   "execution_count": null,
   "metadata": {},
   "outputs": [],
   "source": [
    "company_tag=driver.find_elements_by_xpath(\"//a[@class='subTitle ellipsis fleft']\")\n",
    "company_tag[0:10]"
   ]
  },
  {
   "cell_type": "code",
   "execution_count": null,
   "metadata": {},
   "outputs": [],
   "source": [
    "for i in company_tag:\n",
    "    company_name=i.text\n",
    "    company_names1.append(company_name)\n",
    "company_names1[0:10]"
   ]
  },
  {
   "cell_type": "code",
   "execution_count": null,
   "metadata": {},
   "outputs": [],
   "source": [
    "exprience_tag=driver.find_elements_by_xpath(\"//li[@class='fleft grey-text br2 placeHolderLi experience']/span[1]\")\n",
    "exprience_tag[0:10]\n",
    "for i in exprience_tag:\n",
    "    exp=i.text\n",
    "    exprience_req1.append(exp)\n",
    "exprience_req1[0:10]"
   ]
  },
  {
   "cell_type": "code",
   "execution_count": null,
   "metadata": {},
   "outputs": [],
   "source": [
    "\n",
    "location_tag=driver.find_elements_by_xpath(\"//li[@class='fleft grey-text br2 placeHolderLi location']/span[1]\")\n",
    "location_tag[0:9]\n",
    "for i in location_tag:\n",
    "    loca=i.text\n",
    "    location_list1.append(loca)\n",
    "location_list1[0:10]"
   ]
  },
  {
   "cell_type": "code",
   "execution_count": null,
   "metadata": {},
   "outputs": [],
   "source": [
    "print(len(job_title1),\n",
    "len(location_list1),\n",
    "len(company_names1),\n",
    "len(exprience_req1))\n"
   ]
  },
  {
   "cell_type": "code",
   "execution_count": null,
   "metadata": {},
   "outputs": [],
   "source": [
    "import pandas as pd\n",
    "df=pd.DataFrame({'job title':job_title1,'location':location_list1,'company':company_names1,'exprience':exprience_req1})\n",
    "df"
   ]
  },
  {
   "cell_type": "markdown",
   "metadata": {},
   "source": [
    "### Solution 3"
   ]
  },
  {
   "cell_type": "code",
   "execution_count": null,
   "metadata": {},
   "outputs": [],
   "source": [
    "driver = webdriver.Chrome(r\"C:\\Users\\sahu\\Downloads\\chromedriver_win32\\chromedriver.exe\")\n",
    "driver=webdriver.Chrome(\"chromedriver.exe\")\n",
    "time.sleep(2)\n",
    "driver.get('https://www.naukri.com/')"
   ]
  },
  {
   "cell_type": "code",
   "execution_count": null,
   "metadata": {},
   "outputs": [],
   "source": [
    "search_field_designation=driver.find_element_by_class_name(\"suggestor-input \")#job search\n",
    "search_field_designation.send_keys(\"Data Scientist\")"
   ]
  },
  {
   "cell_type": "code",
   "execution_count": null,
   "metadata": {},
   "outputs": [],
   "source": [
    "search_field_location=driver.find_element_by_xpath(\"/html/body/div/div[2]/div[3]/div/div/div[3]/div/div/div/input\")"
   ]
  },
  {
   "cell_type": "code",
   "execution_count": null,
   "metadata": {},
   "outputs": [],
   "source": [
    "search_button=driver.find_element_by_xpath(\"/html/body/div/div[2]/div[3]/div/div/div[6]\")\n",
    "search_button.click()"
   ]
  },
  {
   "cell_type": "code",
   "execution_count": null,
   "metadata": {},
   "outputs": [],
   "source": [
    "job_title2=[]\n",
    "location_list2=[]\n",
    "company_names2=[]\n",
    "exprience_req2=[]"
   ]
  },
  {
   "cell_type": "code",
   "execution_count": null,
   "metadata": {},
   "outputs": [],
   "source": [
    "search_button=driver.find_element_by_xpath(\"/html/body/div[1]/div[3]/div[2]/section[1]/div[2]/div[4]/div[2]/div[3]/label/i\")\n",
    "search_button.click()\n"
   ]
  },
  {
   "cell_type": "code",
   "execution_count": null,
   "metadata": {},
   "outputs": [],
   "source": [
    "search_button=driver.find_element_by_xpath(\"/html/body/div[1]/div[3]/div[2]/section[1]/div[2]/div[5]/div[2]/div[2]/label/i\")\n",
    "search_button.click()\n"
   ]
  },
  {
   "cell_type": "code",
   "execution_count": null,
   "metadata": {},
   "outputs": [],
   "source": []
  },
  {
   "cell_type": "code",
   "execution_count": null,
   "metadata": {
    "scrolled": true
   },
   "outputs": [],
   "source": [
    "title_tags=driver.find_elements_by_xpath(\"//a[@class='title fw500 ellipsis']\")\n",
    "for i in title_tags:\n",
    "    title=i.text\n",
    "    job_title2.append(title)\n",
    "job_title2[0:10]"
   ]
  },
  {
   "cell_type": "code",
   "execution_count": null,
   "metadata": {},
   "outputs": [],
   "source": [
    "c_tags=driver.find_elements_by_xpath(\"//a[@class='subTitle ellipsis fleft']\")\n",
    "for i in c_tags:\n",
    "    cop=i.text\n",
    "    company_names2.append(cop)\n",
    "company_names2[0:10]"
   ]
  },
  {
   "cell_type": "code",
   "execution_count": null,
   "metadata": {},
   "outputs": [],
   "source": []
  },
  {
   "cell_type": "code",
   "execution_count": null,
   "metadata": {},
   "outputs": [],
   "source": [
    "exprience_tag=driver.find_elements_by_xpath(\"//li[@class='fleft grey-text br2 placeHolderLi experience']/span[1]\")\n",
    "exprience_tag[0:10]\n",
    "for i in exprience_tag:\n",
    "    exp=i.text\n",
    "    exprience_req2.append(exp)\n",
    "exprience_req2[0:10]"
   ]
  },
  {
   "cell_type": "code",
   "execution_count": null,
   "metadata": {},
   "outputs": [],
   "source": [
    "\n",
    "location_tag=driver.find_elements_by_xpath(\"//li[@class='fleft grey-text br2 placeHolderLi location']/span[1]\")\n",
    "location_tag[0:10]\n",
    "for i in location_tag:\n",
    "    loca=i.text\n",
    "    location_list2.append(loca)\n",
    "location_list2[0:10]"
   ]
  },
  {
   "cell_type": "code",
   "execution_count": null,
   "metadata": {},
   "outputs": [],
   "source": [
    "print(len(job_title2),\n",
    "len(location_list2),\n",
    "len(company_names2),\n",
    "len(exprience_req2))"
   ]
  },
  {
   "cell_type": "code",
   "execution_count": null,
   "metadata": {
    "scrolled": true
   },
   "outputs": [],
   "source": [
    "import pandas as pd\n",
    "df=pd.DataFrame({'job title':job_title2,'location':location_list2,'company':company_names2,'exprience':exprience_req2})\n",
    "df"
   ]
  },
  {
   "cell_type": "markdown",
   "metadata": {},
   "source": [
    "### Solution 4 "
   ]
  },
  {
   "cell_type": "code",
   "execution_count": null,
   "metadata": {},
   "outputs": [],
   "source": [
    "driver = webdriver.Chrome(r\"C:\\Users\\sahu\\Downloads\\chromedriver_win32\\chromedriver.exe\")\n",
    "driver=webdriver.Chrome(\"chromedriver.exe\")\n",
    "time.sleep(2)\n",
    "driver.get(\"https://www.flipkart.com/\")\n"
   ]
  },
  {
   "cell_type": "code",
   "execution_count": null,
   "metadata": {},
   "outputs": [],
   "source": [
    "search_field_designation=driver.find_element_by_class_name(\"_3704LK \")"
   ]
  },
  {
   "cell_type": "code",
   "execution_count": null,
   "metadata": {},
   "outputs": [],
   "source": [
    "search_field_designation.send_keys(\"sunglasses\")"
   ]
  },
  {
   "cell_type": "code",
   "execution_count": null,
   "metadata": {},
   "outputs": [],
   "source": [
    "search_button=driver.find_element_by_xpath(\"/html/body/div[1]/div/div[1]/div[1]/div[2]/div[2]/form/div/button\")\n",
    "search_button.click()"
   ]
  },
  {
   "cell_type": "code",
   "execution_count": null,
   "metadata": {},
   "outputs": [],
   "source": [
    "brand=[]\n",
    "Product_description=[]\n",
    "Price=[]\n",
    "offer=[]"
   ]
  },
  {
   "cell_type": "code",
   "execution_count": null,
   "metadata": {},
   "outputs": [],
   "source": [
    "\n",
    "start=0\n",
    "\n",
    "end=3\n",
    "\n",
    "for page in range(start,end):\n",
    "\n",
    "    brands=driver.find_elements_by_class_name('_2WkVRV')\n",
    "\n",
    "    for i in brands:\n",
    "\n",
    "        brand.append(i.text)#appending the text in Brand list\n",
    "\n",
    "        nxt_button=driver.find_elements_by_xpath(\"//a[@class='_1LKTO3']\")#scraping the list of buttons from the page\n",
    "\n",
    "    try:\n",
    "\n",
    "        driver.get(nxt_button[1].get_attribute('href'))#getting the link from the list for next page\n",
    "\n",
    "    except:\n",
    "\n",
    "        driver.get(nxt_button[0].get_attribute('href'))\n",
    "\n",
    "\n",
    "   \n",
    "\n"
   ]
  },
  {
   "cell_type": "code",
   "execution_count": null,
   "metadata": {},
   "outputs": [],
   "source": [
    "a=brand[0:100]\n"
   ]
  },
  {
   "cell_type": "code",
   "execution_count": null,
   "metadata": {},
   "outputs": [],
   "source": [
    "\n",
    "start=0\n",
    "\n",
    "end=3\n",
    "\n",
    "for page in range(start,end):\n",
    "\n",
    "    dis=driver.find_elements_by_class_name('IRpwTa')\n",
    "\n",
    "    for i in dis:\n",
    "\n",
    "        Product_description.append(i.text)#appending the text in Brand list\n",
    "\n",
    "        nxt_button=driver.find_elements_by_xpath(\"//a[@class='_1LKTO3']\")#scraping the list of buttons from the page\n",
    "\n",
    "    try:\n",
    "\n",
    "        driver.get(nxt_button[1].get_attribute('href'))#getting the link from the list for next page\n",
    "\n",
    "    except:\n",
    "\n",
    "        driver.get(nxt_button[0].get_attribute('href'))\n",
    "\n",
    "\n",
    "   "
   ]
  },
  {
   "cell_type": "code",
   "execution_count": null,
   "metadata": {},
   "outputs": [],
   "source": [
    "b=Product_description[0:100]"
   ]
  },
  {
   "cell_type": "code",
   "execution_count": null,
   "metadata": {},
   "outputs": [],
   "source": [
    "\n",
    "start=0\n",
    "\n",
    "end=3\n",
    "\n",
    "for page in range(start,end):\n",
    "\n",
    "    dis=driver.find_elements_by_class_name('_30jeq3')\n",
    "\n",
    "    for i in dis:\n",
    "\n",
    "        Price.append(i.text)#appending the text in Brand list\n",
    "\n",
    "        nxt_button=driver.find_elements_by_xpath(\"//a[@class='_1LKTO3']\")#scraping the list of buttons from the page\n",
    "\n",
    "    try:\n",
    "\n",
    "        driver.get(nxt_button[1].get_attribute('href'))#getting the link from the list for next page\n",
    "\n",
    "    except:\n",
    "\n",
    "        driver.get(nxt_button[0].get_attribute('href'))\n",
    "\n",
    "c=Price[0:100]"
   ]
  },
  {
   "cell_type": "code",
   "execution_count": null,
   "metadata": {},
   "outputs": [],
   "source": [
    "len(c)"
   ]
  },
  {
   "cell_type": "code",
   "execution_count": null,
   "metadata": {},
   "outputs": [],
   "source": [
    "start=0\n",
    "\n",
    "end=3\n",
    "\n",
    "for page in range(start,end):\n",
    "\n",
    "    off=driver.find_elements_by_class_name('_3Ay6Sb')\n",
    "\n",
    "    for i in off:\n",
    "\n",
    "        offer.append(i.text)#appending the text in Brand list\n",
    "\n",
    "        nxt_button=driver.find_elements_by_xpath(\"//a[@class='_1LKTO3']\")#scraping the list of buttons from the page\n",
    "\n",
    "    try:\n",
    "\n",
    "        driver.get(nxt_button[1].get_attribute('href'))#getting the link from the list for next page\n",
    "\n",
    "    except:\n",
    "\n",
    "        driver.get(nxt_button[0].get_attribute('href'))\n",
    "\n",
    "\n",
    "   \n",
    "\n",
    "\n",
    "d=offer[0:100]"
   ]
  },
  {
   "cell_type": "code",
   "execution_count": null,
   "metadata": {},
   "outputs": [],
   "source": [
    "df=pd.DataFrame({'Brand':a,'Description':b,'Price':c,'Offer':d})\n",
    "df\n"
   ]
  },
  {
   "cell_type": "markdown",
   "metadata": {},
   "source": [
    "### solution 5"
   ]
  },
  {
   "cell_type": "code",
   "execution_count": 2,
   "metadata": {},
   "outputs": [],
   "source": [
    "driver = webdriver.Chrome(r\"C:\\Users\\sahu\\Downloads\\chromedriver_win32\\chromedriver.exe\")\n",
    "driver=webdriver.Chrome(\"chromedriver.exe\")\n",
    "time.sleep(2)\n",
    "driver.get(\"https://www.flipkart.com/apple-iphone-11-black-64-gb-includes- earpods-poweradapter/p/itm0f37c2240b217?pid=MOBFKCTSVZAXUHGR&lid=LSTMOBFKCTSVZAXUHGREPBFGI&marketplace\")\n"
   ]
  },
  {
   "cell_type": "code",
   "execution_count": 3,
   "metadata": {},
   "outputs": [],
   "source": [
    "search_button=driver.find_element_by_xpath(\"/html/body/div[1]/div/div[3]/div[1]/div[2]/div[9]/div/div/div[5]/div/a/div/span\")\n",
    "search_button.click()"
   ]
  },
  {
   "cell_type": "code",
   "execution_count": 4,
   "metadata": {},
   "outputs": [],
   "source": [
    "rating=[]\n",
    "shrt_rev=[]\n",
    "full_rev=[]"
   ]
  },
  {
   "cell_type": "code",
   "execution_count": 5,
   "metadata": {},
   "outputs": [],
   "source": [
    "start=0\n",
    "\n",
    "end=10\n",
    "\n",
    "for page in range(start,end):\n",
    "\n",
    "    off=driver.find_elements_by_class_name('_2-N8zT')\n",
    "\n",
    "    for i in off:\n",
    "        shrt_rev.append(i.text)#appending the text in Brand list\n",
    "        nxt_button=driver.find_elements_by_xpath(\"/html/body/div[1]/div/div[3]/div/div/div[2]/div[13]/div/div/nav/a[11]\")#scraping the list of buttons from the page\n",
    "\n",
    "    try:\n",
    "\n",
    "        driver.get(nxt_button[1].get_attribute('href'))#getting the link from the list for next page\n",
    "\n",
    "    except:\n",
    "\n",
    "        driver.get(nxt_button[0].get_attribute('href'))\n",
    "\n",
    "\n",
    "   \n",
    "\n",
    "\n",
    "\n"
   ]
  },
  {
   "cell_type": "code",
   "execution_count": 6,
   "metadata": {},
   "outputs": [
    {
     "data": {
      "text/plain": [
       "['Brilliant',\n",
       " 'Simply awesome',\n",
       " 'Best in the market!',\n",
       " 'Perfect product!',\n",
       " 'Fabulous!',\n",
       " 'Worth every penny',\n",
       " 'Great product',\n",
       " 'Good choice',\n",
       " 'Worth every penny',\n",
       " 'Highly recommended',\n",
       " 'Highly recommended',\n",
       " 'Perfect product!',\n",
       " 'Perfect product!',\n",
       " 'Worth every penny',\n",
       " 'Highly recommended',\n",
       " 'Perfect product!',\n",
       " 'Worth every penny',\n",
       " 'Simply awesome',\n",
       " 'Classy product',\n",
       " 'Terrific',\n",
       " 'Mind-blowing purchase',\n",
       " 'Mind-blowing purchase',\n",
       " 'Brilliant',\n",
       " 'Excellent',\n",
       " 'Terrific',\n",
       " 'Excellent',\n",
       " 'Super!',\n",
       " 'Fabulous!',\n",
       " 'Worth every penny',\n",
       " 'Fabulous!',\n",
       " 'Mind-blowing purchase',\n",
       " 'Perfect product!',\n",
       " 'Terrific purchase',\n",
       " 'Great product',\n",
       " 'excellent',\n",
       " 'Fabulous!',\n",
       " 'Perfect product!',\n",
       " 'Mind-blowing purchase',\n",
       " 'Good choice',\n",
       " 'Simply awesome',\n",
       " 'Fabulous!',\n",
       " 'Just okay',\n",
       " 'Delightful',\n",
       " 'Mind-blowing purchase',\n",
       " 'Terrific',\n",
       " 'Good quality product',\n",
       " 'Simply awesome',\n",
       " 'Wonderful',\n",
       " 'Classy product',\n",
       " 'Excellent',\n",
       " 'Pretty good',\n",
       " 'Excellent',\n",
       " 'Super!',\n",
       " 'Best in the market!',\n",
       " 'Fabulous!',\n",
       " 'Wonderful',\n",
       " 'Delightful',\n",
       " 'Simply awesome',\n",
       " 'Super!',\n",
       " 'Delightful',\n",
       " 'Nice',\n",
       " 'Value-for-money',\n",
       " 'Must buy!',\n",
       " 'Just wow!',\n",
       " 'Nice product',\n",
       " 'Good',\n",
       " 'Delightful',\n",
       " 'Just wow!',\n",
       " 'Great product',\n",
       " 'Must buy!',\n",
       " 'Best in the market!',\n",
       " 'Best in the market!',\n",
       " 'Awesome',\n",
       " 'Terrific',\n",
       " 'Simply awesome',\n",
       " 'Best in the market!',\n",
       " 'Worth every penny',\n",
       " 'Classy product',\n",
       " 'Terrific',\n",
       " 'Wonderful',\n",
       " 'Worth the money',\n",
       " 'Terrific purchase',\n",
       " 'Brilliant',\n",
       " 'Brilliant',\n",
       " 'Wonderful',\n",
       " 'Wonderful',\n",
       " 'Terrific purchase',\n",
       " 'Super!',\n",
       " 'Awesome',\n",
       " 'Brilliant',\n",
       " 'Worth every penny',\n",
       " 'Excellent',\n",
       " 'Mind-blowing purchase',\n",
       " 'Wonderful',\n",
       " 'Mind-blowing purchase',\n",
       " 'Classy product',\n",
       " 'Best in the market!',\n",
       " 'Really Nice',\n",
       " 'Awesome',\n",
       " 'Must buy!']"
      ]
     },
     "execution_count": 6,
     "metadata": {},
     "output_type": "execute_result"
    }
   ],
   "source": [
    "shrt_rev[0:100]"
   ]
  },
  {
   "cell_type": "code",
   "execution_count": 7,
   "metadata": {},
   "outputs": [],
   "source": [
    "start=0\n",
    "\n",
    "end=10\n",
    "\n",
    "for page in range(start,end):\n",
    "\n",
    "    off1=driver.find_elements_by_class_name('t-ZTKy')\n",
    "\n",
    "    for i in off1:\n",
    "        full_rev.append(i.text)#appending the text in Brand list\n",
    "        nxt_button=driver.find_elements_by_xpath(\"/html/body/div[1]/div/div[3]/div/div/div[2]/div[13]/div/div/nav/a[11]\")#scraping the list of buttons from the page\n",
    "\n",
    "    try:\n",
    "\n",
    "        driver.get(nxt_button[1].get_attribute('href'))#getting the link from the list for next page\n",
    "\n",
    "    except:\n",
    "\n",
    "        driver.get(nxt_button[0].get_attribute('href'))\n",
    "\n",
    "\n",
    "   \n"
   ]
  },
  {
   "cell_type": "code",
   "execution_count": 8,
   "metadata": {},
   "outputs": [
    {
     "data": {
      "text/plain": [
       "['Very nice',\n",
       " 'Got if for 43000/- I Flipkart. In market it was 49000/-. Thanks Flipkart.',\n",
       " 'Original product for apple and security seal pack for flipcart but some item missing fir apple head phone and charger I Requested apple please add Headphones and charger',\n",
       " 'Loved it ❤️!!!',\n",
       " 'Power packed performance. Great cameras. Top class phone.',\n",
       " 'NICE, Could have been better if Charger & earphones had also been bundled as there as many 1st time users who migrate to iPhone from Android.\\nCharger socket is a must.',\n",
       " 'Now word it’s just osm',\n",
       " 'Iphone 11 proforming is Exelent..',\n",
       " 'Amazing',\n",
       " 'Camera is awesome\\nBattery lasts more than a day without games\\nSpeakers good\\nTakes 3 Hrs for full charge',\n",
       " 'Perfect iPhone on this budget!! Camera and the night mode is crazy and killing it 🤩 Also the colour suits for everyone ❤️',\n",
       " 'One of the best phone in india. I love thins phone thanku papa ❤️❤️',\n",
       " 'I hate the battery ...All okay',\n",
       " 'Love it',\n",
       " 'It is great. Its battery drain is low when you charge till 100. 100 to 90 the battery is superb. After that it drain like a bullet train',\n",
       " 'Nice',\n",
       " 'Its too good. The camera stabilizer is also very good.',\n",
       " \"don't think about money.. if you like to live today.. then go for it\",\n",
       " 'Lovely camera quality!! Worth buying',\n",
       " 'Awesome performance with pro camera',\n",
       " 'Worth the price. Apple is the best.',\n",
       " 'Awesome 👍',\n",
       " \"I can't describe the value of this phone. Apple charge what it deserve. Ultimate camera with multiple features and privacy inbuilt is incomparable. Fast charging system make apple perfect. Display and face reader of this phone is great.\",\n",
       " 'I like it best performance',\n",
       " 'Value for money',\n",
       " 'Simply super',\n",
       " 'Pros:\\n1.Smooth transition, animations\\n2.sound quality excellent\\n3. Camera is very good\\n\\nCons: No charger included,\\nGesture are not good as android 11\\nHeating in daylight too much\\nNotch is frustrating',\n",
       " 'Camera ,Battery are Good Vibrant display, performance are excellent value for money phone',\n",
       " 'My first iOS mobile awesome',\n",
       " 'Amazing flagship even in 2021\\nSome pics to checkout',\n",
       " 'Everything is fine in this phone except you will get a slow charger with this mobile and you need to buy a 18watt charger.\\n\\nApple company unnecessary created electronic waste by giving slow charger.\\nBecause 70% of people will try to buy a fast charger.\\n\\nThey should have included a fast charger even if they increase in price by some amount.',\n",
       " 'Ultimate super smooth',\n",
       " 'Writing this review after 1 year of usage\\nWhen Looking at the perfomance i feel it much more better than android.but the battery drains faster due to low maH…\\nIf u are a guy who donot need to download any third party apps then you can go for it.(from google chrome or safari you cant downlod unauthorized apps).',\n",
       " 'An awsm phone design is much better then iphone 12 series\\nI m writing this review after the use of 4month of the iphone11 on normal use battery life is aprox 2days and on continuous use of YouTube and pubg its goes for 6-7 hr i’m a college student and i use mobile 24/7 and its performance is excellent although its an Apple iphone so no need to justify about its performance its best.',\n",
       " 'Good phone I buy for camera. camera is superb. Good battery life. But you can’t play bgmi 😂😂😂',\n",
       " 'Nice iPhone camera quality and battery performance very good but not charger and headphone/earpod inside..',\n",
       " 'Wow super',\n",
       " 'Well.... i got brand new phone from Flipkart... that was my utmost concern ever since i had ordered this i phone... some negative reviews made some of my past nights sleepless.... although i may be one of those fortunate ones who got new phone... one less star is for late delevery as well as for a bit low battery performance than i expected... rest it is great product so far from Apple...',\n",
       " 'One of the best products',\n",
       " 'Just one word awesome go for it guy’s you will not regret it\\nCons: only one the display quality at this price point but it better than any full hd+ display',\n",
       " 'Value for money phone',\n",
       " 'On day 1 when I received this product, its battery was approx 50%, later in the evening I charged it from 27% to 70%. 2 days after charging its battery was at 33 %. I used device for video surfing, mails, call, and music.',\n",
       " 'I received the original one.. great app.. thank you Flipkart.. i ws so speedy delivery too',\n",
       " 'Amazing camera quality.',\n",
       " 'Just wow! Got it at 44k',\n",
       " 'Good experience',\n",
       " 'Loved it🖤😌',\n",
       " \"Working fine for me so far. My third iPhone after 5S and 7 Plus. Got a good deal on Flipkart and went ahead. I am not a heavy user and use is mainly limited to calls, texting, casual browsing (mainly Medium or reddit or chrome), NetBanking and e-commerce.\\nNeed not say anything about iPhone's user interface and user experience. It's just flawless. Battery performance has been good. How we charge our phone does affect its life so I am careful with the cycles.\",\n",
       " 'Nice',\n",
       " 'Everything is fine except for the battery backup. Within 40 days the battery life has dropped to 4%. Now it’s 96%. This is really surprising. Even after 2 software updates, it’s dropping really fast. I use this phone as the primary device but do not play any games or hard duty stuff. Still the battery health is dropping drastically!',\n",
       " 'Awesome in 2021 best phone I just loved it',\n",
       " '.excellent .100/100🥰🥰🥰🥰💥',\n",
       " 'All are good not giving charger and earphones 😭',\n",
       " 'Loved it',\n",
       " \"Decided to buy Iphone 11 over Iphone xr, and after using for a week I don't regret it...IOS is not bad to use over Anroid, nice phone with awesome camera\",\n",
       " 'Awesome',\n",
       " 'Simply best performance...\\nAwesome camera\\nGood battery\\nGot @ 44999/-',\n",
       " 'Camera glass has dust trapped in it.Both the cameras has 1 dust particle which keeps shifting its position , sometimes in front of lens.\\nScreen of this phone is not good. As i shifted from android which has Amoled display its a downside to use lCD display,not at all good.\\nPerformance is good,camera quality is also good.',\n",
       " 'Better than 12',\n",
       " 'I was purchase 34000',\n",
       " 'Osm Phone❤️',\n",
       " '1.Excellent camera with moderate battery backup and display\\n2.feeling bit heavy in weight\\n3. Front cam is 4K in video but image clarity in night mode is not good\\n4. Finally compared to Any android phone this is very good',\n",
       " 'Nice product 🥰🥰🥰',\n",
       " 'The only issue is with the network, generally android phones get better network than the apple phone. And I doubt about the apple technology if so, since the primary purpose of the phone is to call and get calls.\\nAny having similar issue please suggest, else phone is amazing.',\n",
       " 'Excellent product.\\nWas using Samsung Galaxy series for long (S6, S8,S10) was happy with Samsung but only pain point was battery performance.\\niPhone 11 kills it with battery and all other department. Camera (video + still) is one level up compare to S10.\\nI gonna stick to iPhone now forever',\n",
       " 'Very good performance. I like that',\n",
       " \"It's a masterpiece\",\n",
       " 'Writing review after 6 months of usage.\\nBest budget iphone for a reason. Camera is so damn good, performance is excellent only compromise would be battery.',\n",
       " 'Wow.Great...Flipkart delivered it 2 days before expected date of delivery.\\n\\nHappy Customer of both the Flipkart and iPhone.',\n",
       " 'Hand set is good but adopter very poor ,very slow charging',\n",
       " 'I feel face id recognition is very slow some time even need to key in the passcode. Heating up problem I faced. Display is okay.Over all the price what I have paid accordingly I am not satisfied. Charging takes much time.',\n",
       " 'Worst experience. I bought this iphone on 14th Feb and after 7 days my iphone suddenly shut down and wont wake up .....😡',\n",
       " 'I have ordered iPhone 11 expecting it to be a good and brand new product but it only took me just couple of minutes to learn that warranty of the phone is only valid for 6 more months.',\n",
       " 'fantastic 👍👍',\n",
       " 'This phone is very heated',\n",
       " 'GOOD PURCHASE',\n",
       " 'I am writing this review after almost 9 months of usage. I earlier owned iPhone 6s 64GB variant, which i bought in 2016. I was overwhelmed with quality of product however i was expensive deal at that point. Since i was using 6s and was very happy with performance, i didn’t want to choose Android and hence decided to upgrade to iPhone 11 64GB variant. Well below are pros and cons as per me\\n\\nPros: Performance superb, camera is awesome, wide angle shot is an added advantage to have, Portrait mod...\\nREAD MORE',\n",
       " \"It's best value for money iPhone currently, Go for it, don't think about the screen you will not notice any difference until you aren't comparing with amoled one, If I talk about performance...Masallah...!!!\",\n",
       " 'Flipkart has provided defective product. Iphone 11 has touch issues around notch from the very first day. It becomes unresponsive around the notch. Battery also does not last a whole day. I would refrain from buying products online.',\n",
       " 'Nice for free fire',\n",
       " 'just love the camera quality...',\n",
       " 'Apple is not doing any R&D for making its handset user friendly. Though it is small in size it is difficult to handle it with single hand. In this amount others are giving far far better than apple. One of the myth is it never gets lag, but others get after a couple of years. But in a couple of years everyone changes his mobile, than why should we bother about lagging of phone. In a nutshell apple should do a lot for improving its performance',\n",
       " \"hi\\nI purchased iPhone 11 ,I think this is the blunder mistake in my recent time.poor quality camera, battery getting heat on video call just 3 minutes,\\nphone heating while using out side areas,early discharging of battery (they said that one day battery)\\nand also requesting who are writing reviews don't write like words awesome, exalent piece,moreover price very high and this type phones not suitable for mines area because of there was high temperature in normal days in summer we are not expect\",\n",
       " 'Android user for life here, recently my parents bought the iPhone 12 series nd after seeing nd using them I fell in love with it,I had recently bought the mi10t (gave that to my bro,he doesn’t care much abt smartphones) had to beg a lot nd finally got the 11, yeah I miss the 1080p, 144hz, bigger battery nd faster charging, customisation,5G etc etc but iPhone is iPhone nd it’s logo speaks for itself,I love it a lot nd forget will stick to iOS',\n",
       " 'My first Iphone. It just my dream that come true. Amazing phone. Thanks Flipkart',\n",
       " 'happy Happy Happy , its li dream cum true...\\ngenuine product with good price',\n",
       " 'if you possible dont buy on this app of iphone my iphone in does not worked of battery very froud this flipcart for iphone🤦🏻\\u200d♂️',\n",
       " 'Total waste of money, as the phone went into freeze and then restarting automatically in loop. Unable to use. Disappointed.',\n",
       " 'Not bad!\\nIn 2021 the A13 Bionic chip is worth for its performance.',\n",
       " 'Camera 9.5/10\\nBattery 3/10\\nPerformance 9.5/10\\nDisplay 5/10\\nDesign 10/10\\nValue for money 7/10',\n",
       " \"Purple color is very soothing and gives you premium look.\\n\\nBut when it comes to heating problem it always gets heated for a while in every 20 minutes of usage which I don't understand why? Also there's a specific place below the camera you can feel the heat is lot more than other areas of back of the phone.\\n\\nIf you think that iPhone is something which you always wanted to have only then buy it, otherwise there are better options available in the market.\",\n",
       " 'Finally Purchase My Second iPhone 11 Black Edition Love This Phone Thanks #apple❤️😍#iPhone11',\n",
       " 'It was a perfect upgrade for me from an older version of iphone. Some rate bad about display still not being oled etc, but personally the display was par equal to all other higher end display out there in the market.',\n",
       " 'It’s not a good product don’t buy online',\n",
       " 'Phone is good overall,few problem I observed is overheating while watching YouTube for long specially when battery is 30-40%.\\nInconsistent camera, Outdoor photos are great, but indoor photos are very bad in low light',\n",
       " 'No doubts on performance, battery back up, camera etc etc.... but if we are paying a huge amount for this device apple should give a fast charger. Phone is supporting fast charging and they provide a 5 watt ordinary charger which takes almost 3 hours to full battery from 0 to 100%.',\n",
       " 'Device is good, performance is perfect as expected. Display should have been better though the display is good. Given 2 rating because missing item in the box. Earpod was missing.',\n",
       " 'You really need a review!? Just shup and buy this thing!',\n",
       " 'Good',\n",
       " 'Awesome Screen , Awesome Camera, Long Lasting Battery Life.']"
      ]
     },
     "execution_count": 8,
     "metadata": {},
     "output_type": "execute_result"
    }
   ],
   "source": [
    "full_rev[0:100]"
   ]
  },
  {
   "cell_type": "code",
   "execution_count": 9,
   "metadata": {},
   "outputs": [
    {
     "ename": "IndexError",
     "evalue": "list index out of range",
     "output_type": "error",
     "traceback": [
      "\u001b[1;31m---------------------------------------------------------------------------\u001b[0m",
      "\u001b[1;31mIndexError\u001b[0m                                Traceback (most recent call last)",
      "\u001b[1;32m<ipython-input-9-7c2187489398>\u001b[0m in \u001b[0;36m<module>\u001b[1;34m\u001b[0m\n\u001b[0;32m     14\u001b[0m \u001b[1;33m\u001b[0m\u001b[0m\n\u001b[1;32m---> 15\u001b[1;33m         \u001b[0mdriver\u001b[0m\u001b[1;33m.\u001b[0m\u001b[0mget\u001b[0m\u001b[1;33m(\u001b[0m\u001b[0mnxt_button\u001b[0m\u001b[1;33m[\u001b[0m\u001b[1;36m1\u001b[0m\u001b[1;33m]\u001b[0m\u001b[1;33m.\u001b[0m\u001b[0mget_attribute\u001b[0m\u001b[1;33m(\u001b[0m\u001b[1;34m'href'\u001b[0m\u001b[1;33m)\u001b[0m\u001b[1;33m)\u001b[0m\u001b[1;31m#getting the link from the list for next page\u001b[0m\u001b[1;33m\u001b[0m\u001b[1;33m\u001b[0m\u001b[0m\n\u001b[0m\u001b[0;32m     16\u001b[0m \u001b[1;33m\u001b[0m\u001b[0m\n",
      "\u001b[1;31mIndexError\u001b[0m: list index out of range",
      "\nDuring handling of the above exception, another exception occurred:\n",
      "\u001b[1;31mIndexError\u001b[0m                                Traceback (most recent call last)",
      "\u001b[1;32m<ipython-input-9-7c2187489398>\u001b[0m in \u001b[0;36m<module>\u001b[1;34m\u001b[0m\n\u001b[0;32m     17\u001b[0m     \u001b[1;32mexcept\u001b[0m\u001b[1;33m:\u001b[0m\u001b[1;33m\u001b[0m\u001b[1;33m\u001b[0m\u001b[0m\n\u001b[0;32m     18\u001b[0m \u001b[1;33m\u001b[0m\u001b[0m\n\u001b[1;32m---> 19\u001b[1;33m         \u001b[0mdriver\u001b[0m\u001b[1;33m.\u001b[0m\u001b[0mget\u001b[0m\u001b[1;33m(\u001b[0m\u001b[0mnxt_button\u001b[0m\u001b[1;33m[\u001b[0m\u001b[1;36m0\u001b[0m\u001b[1;33m]\u001b[0m\u001b[1;33m.\u001b[0m\u001b[0mget_attribute\u001b[0m\u001b[1;33m(\u001b[0m\u001b[1;34m'href'\u001b[0m\u001b[1;33m)\u001b[0m\u001b[1;33m)\u001b[0m\u001b[1;33m\u001b[0m\u001b[1;33m\u001b[0m\u001b[0m\n\u001b[0m",
      "\u001b[1;31mIndexError\u001b[0m: list index out of range"
     ]
    }
   ],
   "source": [
    "start=0\n",
    "\n",
    "end=10\n",
    "\n",
    "for page in range(start,end):\n",
    "\n",
    "    off1=driver.find_elements_by_xpath('/html/body/div[1]/div/div[3]/div/div[1]/div[2]/div[3]/div/div/div/div[1]/div')\n",
    "\n",
    "    for i in off1:\n",
    "        rating.append(i.text)#appending the text in Brand list\n",
    "        nxt_button=driver.find_elements_by_xpath(\"_1LKTO3\")#scraping the list of buttons from the page\n",
    "\n",
    "    try:\n",
    "\n",
    "        driver.get(nxt_button[1].get_attribute('href'))#getting the link from the list for next page\n",
    "\n",
    "    except:\n",
    "\n",
    "        driver.get(nxt_button[0].get_attribute('href'))\n"
   ]
  },
  {
   "cell_type": "code",
   "execution_count": null,
   "metadata": {},
   "outputs": [],
   "source": []
  },
  {
   "cell_type": "code",
   "execution_count": null,
   "metadata": {},
   "outputs": [],
   "source": []
  },
  {
   "cell_type": "code",
   "execution_count": null,
   "metadata": {},
   "outputs": [],
   "source": []
  },
  {
   "cell_type": "code",
   "execution_count": null,
   "metadata": {},
   "outputs": [],
   "source": []
  },
  {
   "cell_type": "markdown",
   "metadata": {},
   "source": [
    "### Solution 6"
   ]
  },
  {
   "cell_type": "code",
   "execution_count": null,
   "metadata": {},
   "outputs": [],
   "source": [
    "driver = webdriver.Chrome(r\"C:\\Users\\sahu\\Downloads\\chromedriver_win32\\chromedriver.exe\")\n",
    "driver=webdriver.Chrome(\"chromedriver.exe\")\n",
    "time.sleep(2)\n",
    "driver.get(\"https://www.flipkart.com/\")"
   ]
  },
  {
   "cell_type": "code",
   "execution_count": null,
   "metadata": {},
   "outputs": [],
   "source": [
    "job_button=driver.find_element_by_xpath(\"/html/body/div[2]/div/div/button\")\n",
    "job_button.click()"
   ]
  },
  {
   "cell_type": "code",
   "execution_count": null,
   "metadata": {},
   "outputs": [],
   "source": [
    "search_field_designation=driver.find_element_by_xpath(\"/html/body/div[1]/div/div[1]/div[1]/div[2]/div[2]/form/div/div/input\")#product search\n",
    "search_field_designation.send_keys(\"sneakers\")\n"
   ]
  },
  {
   "cell_type": "code",
   "execution_count": null,
   "metadata": {},
   "outputs": [],
   "source": [
    "search_button=driver.find_element_by_xpath(\"/html/body/div[1]/div/div[1]/div[1]/div[2]/div[2]/form/div/button\")\n",
    "search_button.click()"
   ]
  },
  {
   "cell_type": "code",
   "execution_count": null,
   "metadata": {},
   "outputs": [],
   "source": [
    "Brand=[]\n",
    "Product_Description=[]\n",
    "Price=[]\n",
    "offer=[]"
   ]
  },
  {
   "cell_type": "code",
   "execution_count": null,
   "metadata": {},
   "outputs": [],
   "source": [
    "start=0\n",
    "\n",
    "end=5\n",
    "\n",
    "for page in range(start,end):\n",
    "\n",
    "    off=driver.find_elements_by_class_name('_2WkVRV')\n",
    "\n",
    "    for i in off:\n",
    "        Brand.append(i.text)#appending the text in Brand list\n",
    "        nxt_button=driver.find_elements_by_xpath(\"_1LKTO3\")#scraping the list of buttons from the page\n",
    "\n",
    "    try:\n",
    "\n",
    "        driver.get(nxt_button[1].get_attribute('href'))#getting the link from the list for next page\n",
    "\n",
    "    except:\n",
    "\n",
    "        driver.get(nxt_button[0].get_attribute('href'))\n"
   ]
  },
  {
   "cell_type": "code",
   "execution_count": null,
   "metadata": {},
   "outputs": [],
   "source": [
    "start=0\n",
    "\n",
    "end=5\n",
    "\n",
    "for page in range(start,end):\n",
    "\n",
    "    off=driver.find_elements_by_class_name('_30jeq3')\n",
    "\n",
    "    for i in off:\n",
    "        Price.append(i.text)#appending the text in Brand list\n",
    "        nxt_button=driver.find_elements_by_xpath(\"_1LKTO3\")#scraping the list of buttons from the page\n",
    "\n",
    "    try:\n",
    "\n",
    "        driver.get(nxt_button[1].get_attribute('href'))#getting the link from the list for next page\n",
    "\n",
    "    except:\n",
    "\n",
    "        driver.get(nxt_button[0].get_attribute('href'))\n"
   ]
  },
  {
   "cell_type": "code",
   "execution_count": null,
   "metadata": {},
   "outputs": [],
   "source": []
  },
  {
   "cell_type": "code",
   "execution_count": null,
   "metadata": {},
   "outputs": [],
   "source": []
  },
  {
   "cell_type": "code",
   "execution_count": null,
   "metadata": {},
   "outputs": [],
   "source": []
  },
  {
   "cell_type": "code",
   "execution_count": null,
   "metadata": {},
   "outputs": [],
   "source": []
  },
  {
   "cell_type": "code",
   "execution_count": null,
   "metadata": {},
   "outputs": [],
   "source": []
  },
  {
   "cell_type": "code",
   "execution_count": null,
   "metadata": {},
   "outputs": [],
   "source": []
  },
  {
   "cell_type": "code",
   "execution_count": null,
   "metadata": {},
   "outputs": [],
   "source": []
  },
  {
   "cell_type": "markdown",
   "metadata": {},
   "source": [
    "### Solution 9"
   ]
  },
  {
   "cell_type": "code",
   "execution_count": null,
   "metadata": {},
   "outputs": [],
   "source": [
    "driver = webdriver.Chrome(r\"C:\\Users\\sahu\\Downloads\\chromedriver_win32\\chromedriver.exe\")\n",
    "driver=webdriver.Chrome(\"chromedriver.exe\")\n",
    "time.sleep(2)\n",
    "driver.get('https://www.ambitionbox.com/')\n"
   ]
  },
  {
   "cell_type": "code",
   "execution_count": null,
   "metadata": {},
   "outputs": [],
   "source": [
    "job_button=driver.find_element_by_xpath(\"//a[@class='link jobs']\")\n",
    "job_button.click()"
   ]
  },
  {
   "cell_type": "code",
   "execution_count": null,
   "metadata": {},
   "outputs": [],
   "source": [
    "search_field_designation=driver.find_element_by_xpath(\"//input[@class='input tt-input']\")\n",
    "search_field_designation.send_keys(\"Data Scientist\")"
   ]
  },
  {
   "cell_type": "code",
   "execution_count": null,
   "metadata": {},
   "outputs": [],
   "source": [
    "job_button=driver.find_element_by_xpath(\"//span[@class='ctas-btn-medium']\")\n",
    "job_button.click()"
   ]
  },
  {
   "cell_type": "code",
   "execution_count": null,
   "metadata": {},
   "outputs": [],
   "source": [
    "job_button=driver.find_element_by_xpath(\"/html/body/div/div/div/div[2]/div[1]/div[2]/div[1]/div/div/div/div[2]/div[1]/i\")\n",
    "job_button.click()"
   ]
  },
  {
   "cell_type": "code",
   "execution_count": null,
   "metadata": {},
   "outputs": [],
   "source": [
    "job_button=driver.find_element_by_xpath(\"/html/body/div/div/div/div[2]/div[1]/div[2]/div[1]/div/div/div/div[2]/div[2]/div/div[3]/div[1]/div[1]/div/label\")\n",
    "job_button.click()"
   ]
  },
  {
   "cell_type": "code",
   "execution_count": null,
   "metadata": {},
   "outputs": [],
   "source": [
    "company_name=[]\n",
    "days_ago=[]\n",
    "Rating=[]\n"
   ]
  },
  {
   "cell_type": "code",
   "execution_count": null,
   "metadata": {},
   "outputs": [],
   "source": [
    "c_tag=driver.find_elements_by_xpath(\"//p[@class='company body-medium']\")\n",
    "for i in c_tag:\n",
    "    title=i.text\n",
    "    company_name.append(title)\n",
    "company_name[0:10]\n",
    "len(company_name)"
   ]
  },
  {
   "cell_type": "code",
   "execution_count": null,
   "metadata": {},
   "outputs": [],
   "source": [
    "d_tag=driver.find_elements_by_xpath(\"//span[@class='body-small-l']\")\n",
    "for i in d_tag:\n",
    "    title=i.text\n",
    "    days_ago.append(title)\n",
    "days_ago[0:20]"
   ]
  },
  {
   "cell_type": "code",
   "execution_count": null,
   "metadata": {},
   "outputs": [],
   "source": [
    "days_agof=[]\n",
    "for i in range(0,len(days_ago),2)[:10]:\n",
    "    days_agof.append(days_ago[i])\n",
    "days_agof"
   ]
  },
  {
   "cell_type": "code",
   "execution_count": null,
   "metadata": {},
   "outputs": [],
   "source": [
    "rating_tag=driver.find_elements_by_xpath(\"//span[@class='body-small']\")\n",
    "for i in rating_tag:\n",
    "    title=i.text\n",
    "    Rating.append(title)\n",
    "Rating[0:10]"
   ]
  },
  {
   "cell_type": "code",
   "execution_count": null,
   "metadata": {},
   "outputs": [],
   "source": []
  },
  {
   "cell_type": "code",
   "execution_count": null,
   "metadata": {},
   "outputs": [],
   "source": [
    "import pandas as pd\n",
    "df=pd.DataFrame({'company':company_name,'days ago posted':days_agof,'Rating':Rating})\n",
    "df"
   ]
  },
  {
   "cell_type": "code",
   "execution_count": null,
   "metadata": {},
   "outputs": [],
   "source": [
    "print(len(company_name),\n",
    "len(days_agof),\n",
    "len(Rating))"
   ]
  },
  {
   "cell_type": "markdown",
   "metadata": {},
   "source": [
    "### Solution 10\n"
   ]
  },
  {
   "cell_type": "code",
   "execution_count": null,
   "metadata": {},
   "outputs": [],
   "source": [
    "driver = webdriver.Chrome(r\"C:\\Users\\sahu\\Downloads\\chromedriver_win32\\chromedriver.exe\")\n",
    "driver=webdriver.Chrome(\"chromedriver.exe\")\n",
    "time.sleep(2)\n",
    "driver.get('https://www.ambitionbox.com/')\n"
   ]
  },
  {
   "cell_type": "code",
   "execution_count": null,
   "metadata": {},
   "outputs": [],
   "source": [
    "sal_button=driver.find_element_by_xpath(\"//a[@class='link salaries']\")\n",
    "sal_button.click()"
   ]
  },
  {
   "cell_type": "code",
   "execution_count": null,
   "metadata": {},
   "outputs": [],
   "source": [
    "search_field_designation=driver.find_element_by_xpath(\"/html/body/div/div/div/main/section[1]/div[2]/div[1]/span/input\")\n",
    "search_field_designation.send_keys(\"Data Scientist\")"
   ]
  },
  {
   "cell_type": "code",
   "execution_count": null,
   "metadata": {},
   "outputs": [],
   "source": [
    "sal_button=driver.find_element_by_xpath(\"//div[@class='suggestion']\")\n",
    "sal_button.click()"
   ]
  },
  {
   "cell_type": "code",
   "execution_count": null,
   "metadata": {},
   "outputs": [],
   "source": [
    "company_name=[]\n",
    "total_sal=[]\n",
    "avg_sal=[]\n",
    "min_sal=[]\n",
    "max_sal=[]\n",
    "exp_req=[]"
   ]
  },
  {
   "cell_type": "code",
   "execution_count": null,
   "metadata": {},
   "outputs": [],
   "source": [
    "cname_tag=driver.find_elements_by_xpath(\"//div[@class='name']\")\n",
    "for i in cname_tag:\n",
    "    title=i.text\n",
    "    company_name.append(title)\n",
    "company_name[0:10]\n"
   ]
  },
  {
   "cell_type": "code",
   "execution_count": null,
   "metadata": {},
   "outputs": [],
   "source": [
    "final=[]\n",
    "i=0\n",
    "while(i<=10):\n",
    "    xyz=company_name[i].split(\"\\n\")[0]\n",
    "    i +=0\n",
    "    final.append(xyz)\n",
    "final\n",
    "    \n"
   ]
  },
  {
   "cell_type": "code",
   "execution_count": null,
   "metadata": {},
   "outputs": [],
   "source": [
    "sal_tag=driver.find_elements_by_xpath(\"//div[@class='salaries sbold-list-header']\")\n",
    "for i in sal_tag:\n",
    "    title=i.text.replace(\"Data Scientist\\n . \\n\",\"\")\n",
    "    total_sal.append(title)\n",
    "total_sal[0:10]"
   ]
  },
  {
   "cell_type": "code",
   "execution_count": null,
   "metadata": {},
   "outputs": [],
   "source": [
    "min_tag=driver.find_elements_by_xpath(\"//div[@class='value body-medium']\")\n",
    "for i in min_tag:\n",
    "    title=i.text\n",
    "    min_sal.append(title)\n",
    "min_sal[0:20]"
   ]
  },
  {
   "cell_type": "code",
   "execution_count": null,
   "metadata": {},
   "outputs": [],
   "source": [
    "new_min=[]\n",
    "for i in range(0,len(min_sal),2)[:10]:\n",
    "    new_min.append(min_sal[i])\n",
    "new_min"
   ]
  },
  {
   "cell_type": "code",
   "execution_count": null,
   "metadata": {},
   "outputs": [],
   "source": [
    "max_sal=[]\n",
    "for i in range(1,len(min_sal),2)[:10]:\n",
    "    max_sal.append(min_sal[i])\n",
    "max_sal"
   ]
  },
  {
   "cell_type": "code",
   "execution_count": null,
   "metadata": {},
   "outputs": [],
   "source": [
    "avg_tag=driver.find_elements_by_xpath(\"//p[@class='averageCtc']\")\n",
    "for i in avg_tag:\n",
    "    title=i.text\n",
    "    avg_sal.append(title)\n",
    "avg_sal[0:10]"
   ]
  },
  {
   "cell_type": "markdown",
   "metadata": {},
   "source": [
    "### Solution 8 "
   ]
  },
  {
   "cell_type": "code",
   "execution_count": 195,
   "metadata": {},
   "outputs": [],
   "source": [
    "driver = webdriver.Chrome(r\"C:\\Users\\sahu\\Downloads\\chromedriver_win32\\chromedriver.exe\")\n",
    "driver=webdriver.Chrome(\"chromedriver.exe\")\n",
    "time.sleep(2)\n",
    "driver.get('https://www.amazon.in/')\n"
   ]
  },
  {
   "cell_type": "code",
   "execution_count": 196,
   "metadata": {},
   "outputs": [],
   "source": [
    "search_field_designation=driver.find_element_by_xpath(\"/html/body/div[1]/header/div/div[1]/div[2]/div/form/div[2]/div[1]/input\")\n",
    "search_field_designation.send_keys(\"laptop\")"
   ]
  },
  {
   "cell_type": "code",
   "execution_count": 197,
   "metadata": {},
   "outputs": [],
   "source": [
    "sal_button=driver.find_element_by_xpath(\"/html/body/div[1]/header/div/div[1]/div[2]/div/form/div[3]/div/span/input\")\n",
    "sal_button.click()"
   ]
  },
  {
   "cell_type": "code",
   "execution_count": null,
   "metadata": {},
   "outputs": [],
   "source": []
  },
  {
   "cell_type": "code",
   "execution_count": 198,
   "metadata": {},
   "outputs": [],
   "source": [
    "title=[]\n",
    "rating=[]\n",
    "Price=[]\n"
   ]
  },
  {
   "cell_type": "code",
   "execution_count": 199,
   "metadata": {},
   "outputs": [
    {
     "data": {
      "text/plain": [
       "[<selenium.webdriver.remote.webelement.WebElement (session=\"681f4a7ef2980448e559a3689bda8c31\", element=\"377806b6-2f5f-4947-b740-a29854144d9f\")>,\n",
       " <selenium.webdriver.remote.webelement.WebElement (session=\"681f4a7ef2980448e559a3689bda8c31\", element=\"9622d3cf-602b-48f8-b708-aace0a12ffca\")>,\n",
       " <selenium.webdriver.remote.webelement.WebElement (session=\"681f4a7ef2980448e559a3689bda8c31\", element=\"9c4b0581-8131-47b3-aefe-e5a65bd4e0bd\")>,\n",
       " <selenium.webdriver.remote.webelement.WebElement (session=\"681f4a7ef2980448e559a3689bda8c31\", element=\"28db53d2-022c-4c32-bab0-ff9eba7c22ab\")>,\n",
       " <selenium.webdriver.remote.webelement.WebElement (session=\"681f4a7ef2980448e559a3689bda8c31\", element=\"4b8856f9-4f9e-47f5-8489-28e04031bbe0\")>,\n",
       " <selenium.webdriver.remote.webelement.WebElement (session=\"681f4a7ef2980448e559a3689bda8c31\", element=\"97e46da2-d17f-499f-91d5-ac44104bb036\")>,\n",
       " <selenium.webdriver.remote.webelement.WebElement (session=\"681f4a7ef2980448e559a3689bda8c31\", element=\"243b360c-1931-4a03-bbb5-838b3c96e86a\")>,\n",
       " <selenium.webdriver.remote.webelement.WebElement (session=\"681f4a7ef2980448e559a3689bda8c31\", element=\"d9f89a34-7268-4119-ab25-be0157ab970d\")>,\n",
       " <selenium.webdriver.remote.webelement.WebElement (session=\"681f4a7ef2980448e559a3689bda8c31\", element=\"3d99ec60-1ad8-422a-8811-7a3d65aff768\")>,\n",
       " <selenium.webdriver.remote.webelement.WebElement (session=\"681f4a7ef2980448e559a3689bda8c31\", element=\"d36277f6-211d-4412-b2ac-3b56cabd44b3\")>]"
      ]
     },
     "execution_count": 199,
     "metadata": {},
     "output_type": "execute_result"
    }
   ],
   "source": [
    "title_tag=driver.find_elements_by_xpath(\"//span[@class='a-size-medium a-color-base a-text-normal']\")\n",
    "title_tag[0:10]"
   ]
  },
  {
   "cell_type": "code",
   "execution_count": 200,
   "metadata": {},
   "outputs": [],
   "source": [
    "for i in title_tag:\n",
    "    title1=i.text\n",
    "    title.append(title1)\n",
    "a=title[0:10]\n"
   ]
  },
  {
   "cell_type": "code",
   "execution_count": 201,
   "metadata": {},
   "outputs": [
    {
     "ename": "NameError",
     "evalue": "name 'NoSuchElementException' is not defined",
     "output_type": "error",
     "traceback": [
      "\u001b[1;31m---------------------------------------------------------------------------\u001b[0m",
      "\u001b[1;31mNoSuchElementException\u001b[0m                    Traceback (most recent call last)",
      "\u001b[1;32m<ipython-input-201-76e357d2917b>\u001b[0m in \u001b[0;36m<module>\u001b[1;34m\u001b[0m\n\u001b[0;32m     14\u001b[0m \u001b[1;33m\u001b[0m\u001b[0m\n\u001b[1;32m---> 15\u001b[1;33m         \u001b[0mrating\u001b[0m\u001b[1;33m=\u001b[0m\u001b[0mdriver\u001b[0m\u001b[1;33m.\u001b[0m\u001b[0mfind_element_by_xpath\u001b[0m\u001b[1;33m(\u001b[0m\u001b[1;34m\"//span[@class='a-size-base a-nowrap']//span\"\u001b[0m\u001b[1;33m)\u001b[0m\u001b[1;31m#locating the rating\u001b[0m\u001b[1;33m\u001b[0m\u001b[1;33m\u001b[0m\u001b[0m\n\u001b[0m\u001b[0;32m     16\u001b[0m         \u001b[0mprice\u001b[0m\u001b[1;33m=\u001b[0m\u001b[0mdriver\u001b[0m\u001b[1;33m.\u001b[0m\u001b[0mfind_element_by_xpath\u001b[0m\u001b[1;33m(\u001b[0m\u001b[1;34m\"//span[@class='a-price a-text-price a-size-medium apexPriceToPay']\"\u001b[0m\u001b[1;33m)\u001b[0m\u001b[1;33m\u001b[0m\u001b[1;33m\u001b[0m\u001b[0m\n",
      "\u001b[1;32m~\\anaconda3\\lib\\site-packages\\selenium\\webdriver\\remote\\webdriver.py\u001b[0m in \u001b[0;36mfind_element_by_xpath\u001b[1;34m(self, xpath)\u001b[0m\n\u001b[0;32m    520\u001b[0m         )\n\u001b[1;32m--> 521\u001b[1;33m         \u001b[1;32mreturn\u001b[0m \u001b[0mself\u001b[0m\u001b[1;33m.\u001b[0m\u001b[0mfind_element\u001b[0m\u001b[1;33m(\u001b[0m\u001b[0mby\u001b[0m\u001b[1;33m=\u001b[0m\u001b[0mBy\u001b[0m\u001b[1;33m.\u001b[0m\u001b[0mXPATH\u001b[0m\u001b[1;33m,\u001b[0m \u001b[0mvalue\u001b[0m\u001b[1;33m=\u001b[0m\u001b[0mxpath\u001b[0m\u001b[1;33m)\u001b[0m\u001b[1;33m\u001b[0m\u001b[1;33m\u001b[0m\u001b[0m\n\u001b[0m\u001b[0;32m    522\u001b[0m \u001b[1;33m\u001b[0m\u001b[0m\n",
      "\u001b[1;32m~\\anaconda3\\lib\\site-packages\\selenium\\webdriver\\remote\\webdriver.py\u001b[0m in \u001b[0;36mfind_element\u001b[1;34m(self, by, value)\u001b[0m\n\u001b[0;32m   1249\u001b[0m             \u001b[1;34m'using'\u001b[0m\u001b[1;33m:\u001b[0m \u001b[0mby\u001b[0m\u001b[1;33m,\u001b[0m\u001b[1;33m\u001b[0m\u001b[1;33m\u001b[0m\u001b[0m\n\u001b[1;32m-> 1250\u001b[1;33m             'value': value})['value']\n\u001b[0m\u001b[0;32m   1251\u001b[0m \u001b[1;33m\u001b[0m\u001b[0m\n",
      "\u001b[1;32m~\\anaconda3\\lib\\site-packages\\selenium\\webdriver\\remote\\webdriver.py\u001b[0m in \u001b[0;36mexecute\u001b[1;34m(self, driver_command, params)\u001b[0m\n\u001b[0;32m    424\u001b[0m         \u001b[1;32mif\u001b[0m \u001b[0mresponse\u001b[0m\u001b[1;33m:\u001b[0m\u001b[1;33m\u001b[0m\u001b[1;33m\u001b[0m\u001b[0m\n\u001b[1;32m--> 425\u001b[1;33m             \u001b[0mself\u001b[0m\u001b[1;33m.\u001b[0m\u001b[0merror_handler\u001b[0m\u001b[1;33m.\u001b[0m\u001b[0mcheck_response\u001b[0m\u001b[1;33m(\u001b[0m\u001b[0mresponse\u001b[0m\u001b[1;33m)\u001b[0m\u001b[1;33m\u001b[0m\u001b[1;33m\u001b[0m\u001b[0m\n\u001b[0m\u001b[0;32m    426\u001b[0m             response['value'] = self._unwrap_value(\n",
      "\u001b[1;32m~\\anaconda3\\lib\\site-packages\\selenium\\webdriver\\remote\\errorhandler.py\u001b[0m in \u001b[0;36mcheck_response\u001b[1;34m(self, response)\u001b[0m\n\u001b[0;32m    246\u001b[0m             \u001b[1;32mraise\u001b[0m \u001b[0mexception_class\u001b[0m\u001b[1;33m(\u001b[0m\u001b[0mmessage\u001b[0m\u001b[1;33m,\u001b[0m \u001b[0mscreen\u001b[0m\u001b[1;33m,\u001b[0m \u001b[0mstacktrace\u001b[0m\u001b[1;33m,\u001b[0m \u001b[0malert_text\u001b[0m\u001b[1;33m)\u001b[0m  \u001b[1;31m# type: ignore[call-arg]  # mypy is not smart enough here\u001b[0m\u001b[1;33m\u001b[0m\u001b[1;33m\u001b[0m\u001b[0m\n\u001b[1;32m--> 247\u001b[1;33m         \u001b[1;32mraise\u001b[0m \u001b[0mexception_class\u001b[0m\u001b[1;33m(\u001b[0m\u001b[0mmessage\u001b[0m\u001b[1;33m,\u001b[0m \u001b[0mscreen\u001b[0m\u001b[1;33m,\u001b[0m \u001b[0mstacktrace\u001b[0m\u001b[1;33m)\u001b[0m\u001b[1;33m\u001b[0m\u001b[1;33m\u001b[0m\u001b[0m\n\u001b[0m\u001b[0;32m    248\u001b[0m \u001b[1;33m\u001b[0m\u001b[0m\n",
      "\u001b[1;31mNoSuchElementException\u001b[0m: Message: no such element: Unable to locate element: {\"method\":\"xpath\",\"selector\":\"//span[@class='a-size-base a-nowrap']//span\"}\n  (Session info: chrome=100.0.4896.127)\nStacktrace:\nBacktrace:\n\tOrdinal0 [0x00D57413+2389011]\n\tOrdinal0 [0x00CE9F61+1941345]\n\tOrdinal0 [0x00BDC658+837208]\n\tOrdinal0 [0x00C091DD+1020381]\n\tOrdinal0 [0x00C0949B+1021083]\n\tOrdinal0 [0x00C36032+1204274]\n\tOrdinal0 [0x00C24194+1130900]\n\tOrdinal0 [0x00C34302+1196802]\n\tOrdinal0 [0x00C23F66+1130342]\n\tOrdinal0 [0x00BFE546+976198]\n\tOrdinal0 [0x00BFF456+980054]\n\tGetHandleVerifier [0x00F09632+1727522]\n\tGetHandleVerifier [0x00FBBA4D+2457661]\n\tGetHandleVerifier [0x00DEEB81+569713]\n\tGetHandleVerifier [0x00DEDD76+566118]\n\tOrdinal0 [0x00CF0B2B+1968939]\n\tOrdinal0 [0x00CF5988+1989000]\n\tOrdinal0 [0x00CF5A75+1989237]\n\tOrdinal0 [0x00CFECB1+2026673]\n\tBaseThreadInitThunk [0x764CFA29+25]\n\tRtlGetAppContainerNamedObjectPath [0x77227A7E+286]\n\tRtlGetAppContainerNamedObjectPath [0x77227A4E+238]\n",
      "\nDuring handling of the above exception, another exception occurred:\n",
      "\u001b[1;31mNameError\u001b[0m                                 Traceback (most recent call last)",
      "\u001b[1;32m<ipython-input-201-76e357d2917b>\u001b[0m in \u001b[0;36m<module>\u001b[1;34m\u001b[0m\n\u001b[0;32m     21\u001b[0m \u001b[1;33m\u001b[0m\u001b[0m\n\u001b[0;32m     22\u001b[0m \u001b[1;33m\u001b[0m\u001b[0m\n\u001b[1;32m---> 23\u001b[1;33m     \u001b[1;32mexcept\u001b[0m \u001b[0mNoSuchElementException\u001b[0m\u001b[1;33m:\u001b[0m\u001b[1;33m\u001b[0m\u001b[1;33m\u001b[0m\u001b[0m\n\u001b[0m\u001b[0;32m     24\u001b[0m \u001b[1;33m\u001b[0m\u001b[0m\n\u001b[0;32m     25\u001b[0m         \u001b[0mRatings\u001b[0m\u001b[1;33m.\u001b[0m\u001b[0mappend\u001b[0m\u001b[1;33m(\u001b[0m\u001b[1;34m\"NO rating\"\u001b[0m\u001b[1;33m)\u001b[0m\u001b[1;31m#appending the No rating if no rating is there\u001b[0m\u001b[1;33m\u001b[0m\u001b[1;33m\u001b[0m\u001b[0m\n",
      "\u001b[1;31mNameError\u001b[0m: name 'NoSuchElementException' is not defined"
     ]
    }
   ],
   "source": [
    "\n",
    "urls=driver.find_elements_by_xpath(\"//a[@class='a-link-normal s-underline-text s-underline-link-text s-link-style a-text-normal']\")#collecting urls of all the laptop\n",
    "\n",
    "UR=[]\n",
    "\n",
    "for i in urls[:10]:\n",
    "\n",
    "    UR.append(i.get_attribute('href'))#getting the url of first 10 laptops\n",
    "\n",
    "for url in UR:#loop for every laptop in the list\n",
    "\n",
    "    driver.get(url)\n",
    "\n",
    "    try:                  #exception handling for nosuchelementexception                                                    #click the rating link found\n",
    "\n",
    "        rating=driver.find_element_by_xpath(\"//span[@class='a-size-base a-nowrap']//span\")#locating the rating\n",
    "        price=driver.find_element_by_xpath(\"//span[@class='a-price a-text-price a-size-medium apexPriceToPay']\")\n",
    "\n",
    "        Ratings.append(rating.text)#appending the ratings in Ratings list\n",
    "        Price.append(price.text)\n",
    "\n",
    "        \n",
    "\n",
    "    except NoSuchElementException:\n",
    "\n",
    "        Ratings.append(\"NO rating\")#appending the No rating if no rating is there"
   ]
  },
  {
   "cell_type": "code",
   "execution_count": 193,
   "metadata": {},
   "outputs": [],
   "source": [
    "c=Price"
   ]
  },
  {
   "cell_type": "code",
   "execution_count": 194,
   "metadata": {},
   "outputs": [
    {
     "name": "stdout",
     "output_type": "stream",
     "text": [
      "10 0 0\n"
     ]
    }
   ],
   "source": [
    "print(len(a),\n",
    "len(b),\n",
    "len(c))\n"
   ]
  },
  {
   "cell_type": "code",
   "execution_count": 173,
   "metadata": {},
   "outputs": [
    {
     "ename": "ValueError",
     "evalue": "arrays must all be same length",
     "output_type": "error",
     "traceback": [
      "\u001b[1;31m---------------------------------------------------------------------------\u001b[0m",
      "\u001b[1;31mValueError\u001b[0m                                Traceback (most recent call last)",
      "\u001b[1;32m<ipython-input-173-33b028e86ad5>\u001b[0m in \u001b[0;36m<module>\u001b[1;34m\u001b[0m\n\u001b[1;32m----> 1\u001b[1;33m \u001b[0mdf\u001b[0m\u001b[1;33m=\u001b[0m\u001b[0mpd\u001b[0m\u001b[1;33m.\u001b[0m\u001b[0mDataFrame\u001b[0m\u001b[1;33m(\u001b[0m\u001b[1;33m{\u001b[0m\u001b[1;34m'product'\u001b[0m\u001b[1;33m:\u001b[0m\u001b[0ma\u001b[0m\u001b[1;33m,\u001b[0m\u001b[1;34m'Rating'\u001b[0m\u001b[1;33m:\u001b[0m\u001b[0mb\u001b[0m\u001b[1;33m,\u001b[0m\u001b[1;34m'Price'\u001b[0m\u001b[1;33m:\u001b[0m\u001b[0mc\u001b[0m\u001b[1;33m}\u001b[0m\u001b[1;33m)\u001b[0m\u001b[1;33m\u001b[0m\u001b[1;33m\u001b[0m\u001b[0m\n\u001b[0m\u001b[0;32m      2\u001b[0m \u001b[0mdf\u001b[0m\u001b[1;33m\u001b[0m\u001b[1;33m\u001b[0m\u001b[0m\n",
      "\u001b[1;32m~\\anaconda3\\lib\\site-packages\\pandas\\core\\frame.py\u001b[0m in \u001b[0;36m__init__\u001b[1;34m(self, data, index, columns, dtype, copy)\u001b[0m\n\u001b[0;32m    433\u001b[0m             )\n\u001b[0;32m    434\u001b[0m         \u001b[1;32melif\u001b[0m \u001b[0misinstance\u001b[0m\u001b[1;33m(\u001b[0m\u001b[0mdata\u001b[0m\u001b[1;33m,\u001b[0m \u001b[0mdict\u001b[0m\u001b[1;33m)\u001b[0m\u001b[1;33m:\u001b[0m\u001b[1;33m\u001b[0m\u001b[1;33m\u001b[0m\u001b[0m\n\u001b[1;32m--> 435\u001b[1;33m             \u001b[0mmgr\u001b[0m \u001b[1;33m=\u001b[0m \u001b[0minit_dict\u001b[0m\u001b[1;33m(\u001b[0m\u001b[0mdata\u001b[0m\u001b[1;33m,\u001b[0m \u001b[0mindex\u001b[0m\u001b[1;33m,\u001b[0m \u001b[0mcolumns\u001b[0m\u001b[1;33m,\u001b[0m \u001b[0mdtype\u001b[0m\u001b[1;33m=\u001b[0m\u001b[0mdtype\u001b[0m\u001b[1;33m)\u001b[0m\u001b[1;33m\u001b[0m\u001b[1;33m\u001b[0m\u001b[0m\n\u001b[0m\u001b[0;32m    436\u001b[0m         \u001b[1;32melif\u001b[0m \u001b[0misinstance\u001b[0m\u001b[1;33m(\u001b[0m\u001b[0mdata\u001b[0m\u001b[1;33m,\u001b[0m \u001b[0mma\u001b[0m\u001b[1;33m.\u001b[0m\u001b[0mMaskedArray\u001b[0m\u001b[1;33m)\u001b[0m\u001b[1;33m:\u001b[0m\u001b[1;33m\u001b[0m\u001b[1;33m\u001b[0m\u001b[0m\n\u001b[0;32m    437\u001b[0m             \u001b[1;32mimport\u001b[0m \u001b[0mnumpy\u001b[0m\u001b[1;33m.\u001b[0m\u001b[0mma\u001b[0m\u001b[1;33m.\u001b[0m\u001b[0mmrecords\u001b[0m \u001b[1;32mas\u001b[0m \u001b[0mmrecords\u001b[0m\u001b[1;33m\u001b[0m\u001b[1;33m\u001b[0m\u001b[0m\n",
      "\u001b[1;32m~\\anaconda3\\lib\\site-packages\\pandas\\core\\internals\\construction.py\u001b[0m in \u001b[0;36minit_dict\u001b[1;34m(data, index, columns, dtype)\u001b[0m\n\u001b[0;32m    252\u001b[0m             \u001b[0marr\u001b[0m \u001b[1;32mif\u001b[0m \u001b[1;32mnot\u001b[0m \u001b[0mis_datetime64tz_dtype\u001b[0m\u001b[1;33m(\u001b[0m\u001b[0marr\u001b[0m\u001b[1;33m)\u001b[0m \u001b[1;32melse\u001b[0m \u001b[0marr\u001b[0m\u001b[1;33m.\u001b[0m\u001b[0mcopy\u001b[0m\u001b[1;33m(\u001b[0m\u001b[1;33m)\u001b[0m \u001b[1;32mfor\u001b[0m \u001b[0marr\u001b[0m \u001b[1;32min\u001b[0m \u001b[0marrays\u001b[0m\u001b[1;33m\u001b[0m\u001b[1;33m\u001b[0m\u001b[0m\n\u001b[0;32m    253\u001b[0m         ]\n\u001b[1;32m--> 254\u001b[1;33m     \u001b[1;32mreturn\u001b[0m \u001b[0marrays_to_mgr\u001b[0m\u001b[1;33m(\u001b[0m\u001b[0marrays\u001b[0m\u001b[1;33m,\u001b[0m \u001b[0mdata_names\u001b[0m\u001b[1;33m,\u001b[0m \u001b[0mindex\u001b[0m\u001b[1;33m,\u001b[0m \u001b[0mcolumns\u001b[0m\u001b[1;33m,\u001b[0m \u001b[0mdtype\u001b[0m\u001b[1;33m=\u001b[0m\u001b[0mdtype\u001b[0m\u001b[1;33m)\u001b[0m\u001b[1;33m\u001b[0m\u001b[1;33m\u001b[0m\u001b[0m\n\u001b[0m\u001b[0;32m    255\u001b[0m \u001b[1;33m\u001b[0m\u001b[0m\n\u001b[0;32m    256\u001b[0m \u001b[1;33m\u001b[0m\u001b[0m\n",
      "\u001b[1;32m~\\anaconda3\\lib\\site-packages\\pandas\\core\\internals\\construction.py\u001b[0m in \u001b[0;36marrays_to_mgr\u001b[1;34m(arrays, arr_names, index, columns, dtype)\u001b[0m\n\u001b[0;32m     62\u001b[0m     \u001b[1;31m# figure out the index, if necessary\u001b[0m\u001b[1;33m\u001b[0m\u001b[1;33m\u001b[0m\u001b[1;33m\u001b[0m\u001b[0m\n\u001b[0;32m     63\u001b[0m     \u001b[1;32mif\u001b[0m \u001b[0mindex\u001b[0m \u001b[1;32mis\u001b[0m \u001b[1;32mNone\u001b[0m\u001b[1;33m:\u001b[0m\u001b[1;33m\u001b[0m\u001b[1;33m\u001b[0m\u001b[0m\n\u001b[1;32m---> 64\u001b[1;33m         \u001b[0mindex\u001b[0m \u001b[1;33m=\u001b[0m \u001b[0mextract_index\u001b[0m\u001b[1;33m(\u001b[0m\u001b[0marrays\u001b[0m\u001b[1;33m)\u001b[0m\u001b[1;33m\u001b[0m\u001b[1;33m\u001b[0m\u001b[0m\n\u001b[0m\u001b[0;32m     65\u001b[0m     \u001b[1;32melse\u001b[0m\u001b[1;33m:\u001b[0m\u001b[1;33m\u001b[0m\u001b[1;33m\u001b[0m\u001b[0m\n\u001b[0;32m     66\u001b[0m         \u001b[0mindex\u001b[0m \u001b[1;33m=\u001b[0m \u001b[0mensure_index\u001b[0m\u001b[1;33m(\u001b[0m\u001b[0mindex\u001b[0m\u001b[1;33m)\u001b[0m\u001b[1;33m\u001b[0m\u001b[1;33m\u001b[0m\u001b[0m\n",
      "\u001b[1;32m~\\anaconda3\\lib\\site-packages\\pandas\\core\\internals\\construction.py\u001b[0m in \u001b[0;36mextract_index\u001b[1;34m(data)\u001b[0m\n\u001b[0;32m    363\u001b[0m             \u001b[0mlengths\u001b[0m \u001b[1;33m=\u001b[0m \u001b[0mlist\u001b[0m\u001b[1;33m(\u001b[0m\u001b[0mset\u001b[0m\u001b[1;33m(\u001b[0m\u001b[0mraw_lengths\u001b[0m\u001b[1;33m)\u001b[0m\u001b[1;33m)\u001b[0m\u001b[1;33m\u001b[0m\u001b[1;33m\u001b[0m\u001b[0m\n\u001b[0;32m    364\u001b[0m             \u001b[1;32mif\u001b[0m \u001b[0mlen\u001b[0m\u001b[1;33m(\u001b[0m\u001b[0mlengths\u001b[0m\u001b[1;33m)\u001b[0m \u001b[1;33m>\u001b[0m \u001b[1;36m1\u001b[0m\u001b[1;33m:\u001b[0m\u001b[1;33m\u001b[0m\u001b[1;33m\u001b[0m\u001b[0m\n\u001b[1;32m--> 365\u001b[1;33m                 \u001b[1;32mraise\u001b[0m \u001b[0mValueError\u001b[0m\u001b[1;33m(\u001b[0m\u001b[1;34m\"arrays must all be same length\"\u001b[0m\u001b[1;33m)\u001b[0m\u001b[1;33m\u001b[0m\u001b[1;33m\u001b[0m\u001b[0m\n\u001b[0m\u001b[0;32m    366\u001b[0m \u001b[1;33m\u001b[0m\u001b[0m\n\u001b[0;32m    367\u001b[0m             \u001b[1;32mif\u001b[0m \u001b[0mhave_dicts\u001b[0m\u001b[1;33m:\u001b[0m\u001b[1;33m\u001b[0m\u001b[1;33m\u001b[0m\u001b[0m\n",
      "\u001b[1;31mValueError\u001b[0m: arrays must all be same length"
     ]
    }
   ],
   "source": [
    "\n",
    "df=pd.DataFrame({'product':a,'Rating':b,'Price':c})\n",
    "df\n"
   ]
  },
  {
   "cell_type": "code",
   "execution_count": null,
   "metadata": {},
   "outputs": [],
   "source": []
  }
 ],
 "metadata": {
  "kernelspec": {
   "display_name": "Python 3",
   "language": "python",
   "name": "python3"
  },
  "language_info": {
   "codemirror_mode": {
    "name": "ipython",
    "version": 3
   },
   "file_extension": ".py",
   "mimetype": "text/x-python",
   "name": "python",
   "nbconvert_exporter": "python",
   "pygments_lexer": "ipython3",
   "version": "3.7.6"
  }
 },
 "nbformat": 4,
 "nbformat_minor": 4
}
