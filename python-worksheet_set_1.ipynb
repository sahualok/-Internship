{
 "cells": [
  {
   "cell_type": "markdown",
   "metadata": {},
   "source": [
    "1.find the factorial of a number"
   ]
  },
  {
   "cell_type": "code",
   "execution_count": 1,
   "metadata": {},
   "outputs": [
    {
     "name": "stdout",
     "output_type": "stream",
     "text": [
      "Enter a num:6\n",
      "the factorial of 6 is 1\n",
      "the factorial of 6 is 2\n",
      "the factorial of 6 is 6\n",
      "the factorial of 6 is 24\n",
      "the factorial of 6 is 120\n",
      "the factorial of 6 is 720\n"
     ]
    }
   ],
   "source": [
    "#take input from user\n",
    "num=int(input(\"Enter a num:\"))\n",
    "\n",
    "factorial=1\n",
    "\n",
    "#check the number is positive,negetive or zero\n",
    "if num <0:\n",
    "    print(\"sorry,no result\")\n",
    "elif num ==0:\n",
    "    print(\"factorial is 1\")\n",
    "else:\n",
    "    for i in range(1,num+1):\n",
    "        factorial = factorial*i\n",
    "        print(\"the factorial of\",num,\"is\",factorial)\n",
    "    "
   ]
  },
  {
   "cell_type": "markdown",
   "metadata": {},
   "source": [
    "2.find whether a number is prime or composite."
   ]
  },
  {
   "cell_type": "code",
   "execution_count": 3,
   "metadata": {
    "scrolled": true
   },
   "outputs": [
    {
     "name": "stdout",
     "output_type": "stream",
     "text": [
      "enter a number 6\n",
      "its a composite number\n"
     ]
    }
   ],
   "source": [
    "#input a number\n",
    "n=int(input(\"enter a number \"))\n",
    "if (n==0 or n==1):\n",
    "    print(n,\"is neither a prime nor a composite\")\n",
    "elif n>1:\n",
    "    for i in range(2,n):\n",
    "        if(n%i)==0:\n",
    "            print(\"its a composite number\")\n",
    "            break\n",
    "        else:\n",
    "            print(\"its a prime number\")\n",
    "else:\n",
    "    print(\"enter a positive number\")"
   ]
  },
  {
   "cell_type": "markdown",
   "metadata": {},
   "source": [
    "3.check whether a given string is palindrome or not"
   ]
  },
  {
   "cell_type": "code",
   "execution_count": 4,
   "metadata": {},
   "outputs": [
    {
     "name": "stdout",
     "output_type": "stream",
     "text": [
      "the string is not palindrome\n"
     ]
    }
   ],
   "source": [
    "#enter the string\n",
    "my_str='mok'\n",
    "#reverse the string\n",
    "rev_str = reversed(my_str)\n",
    "#check if the string is equal to its reverse \n",
    "if list(my_str)==list(rev_str):\n",
    "    print(\"the string is palindrome\")\n",
    "else:\n",
    "    print(\"the string is not palindrome\")"
   ]
  },
  {
   "cell_type": "markdown",
   "metadata": {},
   "source": [
    "4.get the third side of right-angled triangle from two given sides."
   ]
  },
  {
   "cell_type": "code",
   "execution_count": 3,
   "metadata": {},
   "outputs": [
    {
     "name": "stdout",
     "output_type": "stream",
     "text": [
      "hypotenuse=5.0\n",
      "Adjacent=4.0\n",
      "Opposite=3.0\n",
      "oppps the Ans is!!!\n"
     ]
    }
   ],
   "source": [
    "def pythagoras(opposite_side,adjacent_side,hypotenuse):\n",
    "    if opposite_side==str(\"x\"):\n",
    "        return (\"Opposite=\"+str(((hypotenuse**2)-(adjacent_side**2))**0.5))\n",
    "    elif adjacent_side==str(\"x\"):\n",
    "         return (\"Adjacent=\"+str(((hypotenuse**2)-(opposite_side**2))**0.5))\n",
    "    elif hypotenuse == str(\"x\"):\n",
    "        return (\"hypotenuse=\"+str(((opposite_side**2)+(adjacent_side**2))**0.5))\n",
    "    else:\n",
    "        return \"oppps the Ans is!!!\"\n",
    "print(pythagoras(3,4,'x'))\n",
    "print(pythagoras(3,'x',5))\n",
    "print(pythagoras('x',4,5))\n",
    "print(pythagoras(3,4,5))\n",
    "\n",
    "    "
   ]
  },
  {
   "cell_type": "code",
   "execution_count": null,
   "metadata": {},
   "outputs": [],
   "source": []
  },
  {
   "cell_type": "markdown",
   "metadata": {},
   "source": [
    "5.print the frequency of each of the characters present in a given string"
   ]
  },
  {
   "cell_type": "code",
   "execution_count": 6,
   "metadata": {},
   "outputs": [
    {
     "name": "stdout",
     "output_type": "stream",
     "text": [
      "all the charachter count of the string is : \n",
      " {'A': 1}\n",
      "all the charachter count of the string is : \n",
      " {'A': 1, 'l': 1}\n",
      "all the charachter count of the string is : \n",
      " {'A': 1, 'l': 1, 'a': 1}\n",
      "all the charachter count of the string is : \n",
      " {'A': 1, 'l': 1, 'a': 1, 'f': 1}\n",
      "all the charachter count of the string is : \n",
      " {'A': 1, 'l': 1, 'a': 1, 'f': 2}\n",
      "all the charachter count of the string is : \n",
      " {'A': 1, 'l': 1, 'a': 1, 'f': 2, 's': 1}\n",
      "all the charachter count of the string is : \n",
      " {'A': 1, 'l': 1, 'a': 1, 'f': 3, 's': 1}\n",
      "all the charachter count of the string is : \n",
      " {'A': 1, 'l': 1, 'a': 1, 'f': 3, 's': 1, 'd': 1}\n",
      "all the charachter count of the string is : \n",
      " {'A': 1, 'l': 1, 'a': 1, 'f': 3, 's': 1, 'd': 1, 'z': 1}\n",
      "all the charachter count of the string is : \n",
      " {'A': 1, 'l': 1, 'a': 1, 'f': 4, 's': 1, 'd': 1, 'z': 1}\n",
      "all the charachter count of the string is : \n",
      " {'A': 1, 'l': 1, 'a': 1, 'f': 4, 's': 1, 'd': 2, 'z': 1}\n",
      "all the charachter count of the string is : \n",
      " {'A': 1, 'l': 1, 'a': 1, 'f': 4, 's': 1, 'd': 2, 'z': 2}\n",
      "all the charachter count of the string is : \n",
      " {'A': 1, 'l': 1, 'a': 1, 'f': 4, 's': 1, 'd': 2, 'z': 2, 'r': 1}\n",
      "all the charachter count of the string is : \n",
      " {'A': 1, 'l': 1, 'a': 1, 'f': 5, 's': 1, 'd': 2, 'z': 2, 'r': 1}\n",
      "all the charachter count of the string is : \n",
      " {'A': 1, 'l': 1, 'a': 1, 'f': 5, 's': 1, 'd': 3, 'z': 2, 'r': 1}\n",
      "all the charachter count of the string is : \n",
      " {'A': 1, 'l': 1, 'a': 1, 'f': 5, 's': 2, 'd': 3, 'z': 2, 'r': 1}\n",
      "all the charachter count of the string is : \n",
      " {'A': 1, 'l': 1, 'a': 1, 'f': 6, 's': 2, 'd': 3, 'z': 2, 'r': 1}\n",
      "all the charachter count of the string is : \n",
      " {'A': 1, 'l': 1, 'a': 1, 'f': 6, 's': 2, 'd': 3, 'z': 2, 'r': 1, 'v': 1}\n",
      "all the charachter count of the string is : \n",
      " {'A': 1, 'l': 1, 'a': 1, 'f': 6, 's': 2, 'd': 4, 'z': 2, 'r': 1, 'v': 1}\n",
      "all the charachter count of the string is : \n",
      " {'A': 1, 'l': 1, 'a': 1, 'f': 6, 's': 2, 'd': 4, 'z': 3, 'r': 1, 'v': 1}\n",
      "all the charachter count of the string is : \n",
      " {'A': 1, 'l': 1, 'a': 1, 'f': 6, 's': 3, 'd': 4, 'z': 3, 'r': 1, 'v': 1}\n",
      "all the charachter count of the string is : \n",
      " {'A': 1, 'l': 1, 'a': 1, 'f': 6, 's': 3, 'd': 5, 'z': 3, 'r': 1, 'v': 1}\n",
      "all the charachter count of the string is : \n",
      " {'A': 1, 'l': 1, 'a': 1, 'f': 7, 's': 3, 'd': 5, 'z': 3, 'r': 1, 'v': 1}\n"
     ]
    }
   ],
   "source": [
    "test_str = \"Alaffsfdzfdzrfdsfvdzsdf\"\n",
    "\n",
    "  \n",
    "# using naive method to get count  \n",
    "# of each element in string  \n",
    "\n",
    "all_freq = {} \n",
    "\n",
    "  \n",
    "\n",
    "for i in test_str: \n",
    "\n",
    "    if i in all_freq: \n",
    "\n",
    "        all_freq[i] += 1\n",
    "\n",
    "    else: \n",
    "\n",
    "        all_freq[i] = 1\n",
    "    print(\"all the charachter count of the string is : \\n \" + str(all_freq))"
   ]
  },
  {
   "cell_type": "markdown",
   "metadata": {},
   "source": []
  },
  {
   "cell_type": "code",
   "execution_count": null,
   "metadata": {},
   "outputs": [],
   "source": []
  }
 ],
 "metadata": {
  "kernelspec": {
   "display_name": "Python 3",
   "language": "python",
   "name": "python3"
  },
  "language_info": {
   "codemirror_mode": {
    "name": "ipython",
    "version": 3
   },
   "file_extension": ".py",
   "mimetype": "text/x-python",
   "name": "python",
   "nbconvert_exporter": "python",
   "pygments_lexer": "ipython3",
   "version": "3.7.6"
  }
 },
 "nbformat": 4,
 "nbformat_minor": 4
}
